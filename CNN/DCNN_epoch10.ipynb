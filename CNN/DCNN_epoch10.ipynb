{
 "cells": [
  {
   "cell_type": "code",
   "execution_count": 1,
   "id": "38de2cd6",
   "metadata": {},
   "outputs": [
    {
     "name": "stdout",
     "output_type": "stream",
     "text": [
      "Num GPUs Available:  1\n"
     ]
    }
   ],
   "source": [
    "# 주로 사용하는 코드 2 : 인식한 GPU 개수 출력\n",
    "import tensorflow as tf\n",
    "print(\"Num GPUs Available: \", len(tf.config.experimental.list_physical_devices('GPU')))"
   ]
  },
  {
   "cell_type": "code",
   "execution_count": 2,
   "id": "79ee6fb7",
   "metadata": {},
   "outputs": [],
   "source": [
    "import numpy as np\n",
    "import matplotlib.pyplot as plt\n",
    "import tensorflow as tf\n",
    "from tensorflow.keras.datasets import mnist\n",
    "from tensorflow.keras.models import Sequential\n",
    "from tensorflow.keras.layers import Flatten, Dense, Conv2D, MaxPooling2D, BatchNormalization, Dropout\n",
    "from tensorflow.keras.losses import SparseCategoricalCrossentropy\n",
    "from tensorflow.keras.optimizers import Adam"
   ]
  },
  {
   "cell_type": "code",
   "execution_count": 3,
   "id": "2e8c1dac",
   "metadata": {},
   "outputs": [],
   "source": [
    "def load_mnist_dataset():  \n",
    "  (train_validation_images, train_validation_labels), (test_images, test_labels) \\\n",
    "    = mnist.load_data()\n",
    "\n",
    "  train_validation_images = train_validation_images.reshape(-1,28,28,1)\n",
    "  test_images = test_images.reshape(-1,28,28,1)\n",
    "  \n",
    "  train_validation_images = train_validation_images / 255.\n",
    "  test_images = test_images / 255.\n",
    "\n",
    "  n_train_validation = train_validation_images.shape[0]\n",
    "  train_ratio = 0.8\n",
    "  n_train = int(n_train_validation * train_ratio)\n",
    "\n",
    "  train_x = train_validation_images[:n_train]\n",
    "  train_y = train_validation_labels[:n_train]\n",
    "  validation_x = train_validation_images[n_train:]\n",
    "  validation_y = train_validation_labels[n_train:]\n",
    "  test_x = test_images\n",
    "  test_y = test_labels\n",
    "  \n",
    "  print('Train set')\n",
    "  print('Image :', train_x.shape)\n",
    "  print('Label :', train_y.shape)\n",
    "  print('Validation set')\n",
    "  print('Image :', validation_x.shape)\n",
    "  print('Label :', validation_y.shape)\n",
    "  print('Train & validation set')\n",
    "  print('Image :', test_x.shape)\n",
    "  print('Label :', test_y.shape)\n",
    "\n",
    "  return train_x, train_y, validation_x, validation_y, test_x, test_y"
   ]
  },
  {
   "cell_type": "code",
   "execution_count": 4,
   "id": "9de9d8ef",
   "metadata": {},
   "outputs": [
    {
     "name": "stdout",
     "output_type": "stream",
     "text": [
      "Train set\n",
      "Image : (48000, 28, 28, 1)\n",
      "Label : (48000,)\n",
      "Validation set\n",
      "Image : (12000, 28, 28, 1)\n",
      "Label : (12000,)\n",
      "Train & validation set\n",
      "Image : (10000, 28, 28, 1)\n",
      "Label : (10000,)\n"
     ]
    }
   ],
   "source": [
    "train_x, train_y, validation_x, validation_y, test_x, test_y = load_mnist_dataset()"
   ]
  },
  {
   "cell_type": "code",
   "execution_count": 5,
   "id": "c1923755",
   "metadata": {},
   "outputs": [],
   "source": [
    "model = Sequential()\n",
    "model.add(Conv2D(filters=24, kernel_size=(3,3), padding='same', activation='relu'))\n",
    "model.add(BatchNormalization())\n",
    "model.add(Conv2D(filters=36, kernel_size=(3,3), padding='same', activation='relu'))\n",
    "model.add(BatchNormalization())\n",
    "model.add(Conv2D(filters=48, kernel_size=(3,3), padding='same', activation='relu'))\n",
    "model.add(BatchNormalization())\n",
    "model.add(MaxPooling2D(pool_size=(2,2), strides=(2,2)))\n",
    "model.add(Conv2D(filters=60, kernel_size=(3,3), padding='same', activation='relu'))\n",
    "model.add(BatchNormalization())\n",
    "model.add(MaxPooling2D(pool_size=(2,2), strides=(2,2)))\n",
    "model.add(Conv2D(filters=72, kernel_size=(3,3), padding='same', activation='relu'))\n",
    "model.add(BatchNormalization())\n",
    "model.add(MaxPooling2D(pool_size=(2,2), strides=(2,2)))\n",
    "model.add(Flatten())\n",
    "model.add(Dense(128, activation='relu'))\n",
    "model.add(Dropout(0.5))\n",
    "model.add(Dense(10, activation='softmax'))\n",
    "\n",
    "model.compile(loss='sparse_categorical_crossentropy', optimizer='Adam', metrics=['accuracy'])"
   ]
  },
  {
   "cell_type": "code",
   "execution_count": 6,
   "id": "5e3d2ced",
   "metadata": {},
   "outputs": [
    {
     "name": "stdout",
     "output_type": "stream",
     "text": [
      "Conv2D output shape:\t (1, 28, 28, 24)\n",
      "BatchNormalization output shape:\t (1, 28, 28, 24)\n",
      "Conv2D output shape:\t (1, 28, 28, 36)\n",
      "BatchNormalization output shape:\t (1, 28, 28, 36)\n",
      "Conv2D output shape:\t (1, 28, 28, 48)\n",
      "BatchNormalization output shape:\t (1, 28, 28, 48)\n",
      "MaxPooling2D output shape:\t (1, 14, 14, 48)\n",
      "Conv2D output shape:\t (1, 14, 14, 60)\n",
      "BatchNormalization output shape:\t (1, 14, 14, 60)\n",
      "MaxPooling2D output shape:\t (1, 7, 7, 60)\n",
      "Conv2D output shape:\t (1, 7, 7, 72)\n",
      "BatchNormalization output shape:\t (1, 7, 7, 72)\n",
      "MaxPooling2D output shape:\t (1, 3, 3, 72)\n",
      "Flatten output shape:\t (1, 648)\n",
      "Dense output shape:\t (1, 128)\n",
      "Dropout output shape:\t (1, 128)\n",
      "Dense output shape:\t (1, 10)\n"
     ]
    }
   ],
   "source": [
    "x = tf.random.uniform(shape=(1,28,28,1))\n",
    "for layer in model.layers:\n",
    "    x=layer(x)\n",
    "    print(layer.__class__.__name__, 'output shape:\\t',x.shape)"
   ]
  },
  {
   "cell_type": "code",
   "execution_count": 7,
   "id": "65ee0aaf",
   "metadata": {},
   "outputs": [
    {
     "name": "stdout",
     "output_type": "stream",
     "text": [
      "Train on 48000 samples, validate on 12000 samples\n",
      "Epoch 1/10\n",
      "48000/48000 - 17s - loss: 0.2115 - accuracy: 0.9387 - val_loss: 0.0597 - val_accuracy: 0.9829\n",
      "Epoch 2/10\n",
      "48000/48000 - 15s - loss: 0.0960 - accuracy: 0.9735 - val_loss: 0.0488 - val_accuracy: 0.9867\n",
      "Epoch 3/10\n",
      "48000/48000 - 16s - loss: 0.0772 - accuracy: 0.9803 - val_loss: 0.0443 - val_accuracy: 0.9894\n",
      "Epoch 4/10\n",
      "48000/48000 - 16s - loss: 0.0590 - accuracy: 0.9844 - val_loss: 0.0524 - val_accuracy: 0.9860\n",
      "Epoch 5/10\n",
      "48000/48000 - 16s - loss: 0.0501 - accuracy: 0.9866 - val_loss: 0.0389 - val_accuracy: 0.9913\n",
      "Epoch 6/10\n",
      "48000/48000 - 15s - loss: 0.0426 - accuracy: 0.9885 - val_loss: 0.0415 - val_accuracy: 0.9904\n",
      "Epoch 7/10\n",
      "48000/48000 - 15s - loss: 0.0392 - accuracy: 0.9900 - val_loss: 0.0370 - val_accuracy: 0.9921\n",
      "Epoch 8/10\n",
      "48000/48000 - 16s - loss: 0.0351 - accuracy: 0.9904 - val_loss: 0.0416 - val_accuracy: 0.9907\n",
      "Epoch 9/10\n",
      "48000/48000 - 15s - loss: 0.0293 - accuracy: 0.9918 - val_loss: 0.0383 - val_accuracy: 0.9913\n",
      "Epoch 10/10\n",
      "48000/48000 - 16s - loss: 0.0261 - accuracy: 0.9927 - val_loss: 0.0450 - val_accuracy: 0.9918\n"
     ]
    }
   ],
   "source": [
    "history = model.fit(train_x, train_y, batch_size=9, epochs=10,\\\n",
    "                    verbose=2, validation_data=(validation_x, validation_y))"
   ]
  },
  {
   "cell_type": "code",
   "execution_count": 8,
   "id": "78ec6014",
   "metadata": {},
   "outputs": [
    {
     "name": "stdout",
     "output_type": "stream",
     "text": [
      "Model: \"sequential\"\n",
      "_________________________________________________________________\n",
      "Layer (type)                 Output Shape              Param #   \n",
      "=================================================================\n",
      "conv2d (Conv2D)              multiple                  240       \n",
      "_________________________________________________________________\n",
      "batch_normalization (BatchNo multiple                  96        \n",
      "_________________________________________________________________\n",
      "conv2d_1 (Conv2D)            multiple                  7812      \n",
      "_________________________________________________________________\n",
      "batch_normalization_1 (Batch multiple                  144       \n",
      "_________________________________________________________________\n",
      "conv2d_2 (Conv2D)            multiple                  15600     \n",
      "_________________________________________________________________\n",
      "batch_normalization_2 (Batch multiple                  192       \n",
      "_________________________________________________________________\n",
      "max_pooling2d (MaxPooling2D) multiple                  0         \n",
      "_________________________________________________________________\n",
      "conv2d_3 (Conv2D)            multiple                  25980     \n",
      "_________________________________________________________________\n",
      "batch_normalization_3 (Batch multiple                  240       \n",
      "_________________________________________________________________\n",
      "max_pooling2d_1 (MaxPooling2 multiple                  0         \n",
      "_________________________________________________________________\n",
      "conv2d_4 (Conv2D)            multiple                  38952     \n",
      "_________________________________________________________________\n",
      "batch_normalization_4 (Batch multiple                  288       \n",
      "_________________________________________________________________\n",
      "max_pooling2d_2 (MaxPooling2 multiple                  0         \n",
      "_________________________________________________________________\n",
      "flatten (Flatten)            multiple                  0         \n",
      "_________________________________________________________________\n",
      "dense (Dense)                multiple                  83072     \n",
      "_________________________________________________________________\n",
      "dropout (Dropout)            multiple                  0         \n",
      "_________________________________________________________________\n",
      "dense_1 (Dense)              multiple                  1290      \n",
      "=================================================================\n",
      "Total params: 173,906\n",
      "Trainable params: 173,426\n",
      "Non-trainable params: 480\n",
      "_________________________________________________________________\n"
     ]
    }
   ],
   "source": [
    "model.summary()"
   ]
  },
  {
   "cell_type": "code",
   "execution_count": 9,
   "id": "cac37509",
   "metadata": {},
   "outputs": [
    {
     "name": "stderr",
     "output_type": "stream",
     "text": [
      "C:\\Users\\tlsdu\\anaconda3\\envs\\tfgpu\\lib\\site-packages\\ipykernel_launcher.py:14: UserWarning: Matplotlib is currently using module://matplotlib_inline.backend_inline, which is a non-GUI backend, so cannot show the figure.\n",
      "  \n"
     ]
    },
    {
     "data": {
      "image/png": "[encoded data removed]",
      "text/plain": [
       "<Figure size 640x480 with 2 Axes>"
      ]
     },
     "metadata": {},
     "output_type": "display_data"
    }
   ],
   "source": [
    "fig, axes = plt.subplots(2,1)\n",
    "\n",
    "axes[0].plot(history.history['loss'], label='Train loss')\n",
    "axes[0].plot(history.history['val_loss'], label='Validation loss')\n",
    "axes[0].set_ylabel('Crossentropy')\n",
    "axes[0].legend()\n",
    "\n",
    "axes[1].plot(history.history['accuracy'], label='Train accuracy')\n",
    "axes[1].plot(history.history['val_accuracy'], label='Validation accuracy')\n",
    "axes[1].set_ylabel('Accuarcy')\n",
    "axes[1].legend()\n",
    "axes[1].set_xlabel('Epochs')\n",
    "\n",
    "fig.show()"
   ]
  },
  {
   "cell_type": "code",
   "execution_count": 10,
   "id": "2aae8317",
   "metadata": {},
   "outputs": [
    {
     "name": "stdout",
     "output_type": "stream",
     "text": [
      "10000/10000 - 1s - loss: 0.0397 - accuracy: 0.9914\n",
      "Test loss : 0.0397\t Test accuracy : 99.14%\n"
     ]
    }
   ],
   "source": [
    "result= model.evaluate(test_x, test_y, verbose=2)\n",
    "\n",
    "print('Test loss : {:.4f}\\t Test accuracy : {:.2f}%'.format(result[0], result[1]*100))"
   ]
  },
  {
   "cell_type": "code",
   "execution_count": 11,
   "id": "eb201c13",
   "metadata": {},
   "outputs": [
    {
     "name": "stdout",
     "output_type": "stream",
     "text": [
      "[<tensorflow.python.keras.layers.convolutional.Conv2D object at 0x00000246B59B8DC8>, <tensorflow.python.keras.layers.normalization_v2.BatchNormalization object at 0x00000246B5927CC8>, <tensorflow.python.keras.layers.convolutional.Conv2D object at 0x00000246B59CCBC8>, <tensorflow.python.keras.layers.normalization_v2.BatchNormalization object at 0x00000246B51120C8>, <tensorflow.python.keras.layers.convolutional.Conv2D object at 0x00000246B5A738C8>, <tensorflow.python.keras.layers.normalization_v2.BatchNormalization object at 0x00000246B5A73A88>, <tensorflow.python.keras.layers.pooling.MaxPooling2D object at 0x00000246B5A78D08>, <tensorflow.python.keras.layers.convolutional.Conv2D object at 0x00000246B5A78EC8>, <tensorflow.python.keras.layers.normalization_v2.BatchNormalization object at 0x00000246B5963F48>, <tensorflow.python.keras.layers.pooling.MaxPooling2D object at 0x00000246B5A78448>, <tensorflow.python.keras.layers.convolutional.Conv2D object at 0x00000246B5A78C48>, <tensorflow.python.keras.layers.normalization_v2.BatchNormalization object at 0x00000246B5A81688>, <tensorflow.python.keras.layers.pooling.MaxPooling2D object at 0x00000246B5A81DC8>, <tensorflow.python.keras.layers.core.Flatten object at 0x00000246B5A81FC8>, <tensorflow.python.keras.layers.core.Dense object at 0x00000246B50F5648>, <tensorflow.python.keras.layers.core.Dropout object at 0x00000246B538CA88>, <tensorflow.python.keras.layers.core.Dense object at 0x00000246B59A8948>]\n"
     ]
    }
   ],
   "source": [
    "layers=model.layers\n",
    "print(layers)"
   ]
  },
  {
   "cell_type": "code",
   "execution_count": 12,
   "id": "55e1b86a",
   "metadata": {},
   "outputs": [
    {
     "data": {
      "text/plain": [
       "array([[[[-0.21606608, -0.39789376, -0.39068624, -0.19612528,\n",
       "          -0.1470706 ,  0.32094106,  0.4010768 , -0.41146713,\n",
       "          -0.05142897,  0.1612396 ,  0.1550337 , -0.08023134,\n",
       "           0.41634014, -0.19755284, -0.12142774,  0.0403104 ,\n",
       "          -0.06641749,  0.05630464, -0.43982738,  0.26151413,\n",
       "          -0.41322812, -0.15386052,  0.00672518, -0.07957961]],\n",
       "\n",
       "        [[-0.31893563,  0.18598638, -0.39329582,  0.03174171,\n",
       "          -0.0542003 , -0.19143435, -0.04332691, -0.32737282,\n",
       "          -0.14019306, -0.1076633 , -0.38784188,  0.07072999,\n",
       "          -0.08276831,  0.11175524, -0.28576177, -0.26079875,\n",
       "          -0.12154811, -0.2334506 ,  0.10139485,  0.27191997,\n",
       "           0.22038147, -0.10264946, -0.14369524,  0.17068326]],\n",
       "\n",
       "        [[-0.38951126,  0.4496046 , -0.03421015,  0.2665366 ,\n",
       "           0.18582946, -0.33838713, -0.3702395 , -0.19477135,\n",
       "           0.41379684,  0.2673256 ,  0.13736771,  0.3358511 ,\n",
       "          -0.4447942 , -0.14995119, -0.18064137, -0.01767586,\n",
       "          -0.03587179, -0.49075267,  0.01131133, -0.10022758,\n",
       "          -0.22094224,  0.00526259, -0.16483048,  0.17674774]]],\n",
       "\n",
       "\n",
       "       [[[-0.03571755,  0.18881628,  0.23068461,  0.04891984,\n",
       "           0.16501996,  0.2487694 ,  0.41362092, -0.6872374 ,\n",
       "          -0.01663362,  0.38003343, -0.23366502,  0.2691642 ,\n",
       "           0.00096779, -0.13362077,  0.29145724, -0.19213445,\n",
       "          -0.16788173,  0.20824853,  0.06186628, -0.1782389 ,\n",
       "          -0.11982988,  0.00182489,  0.282104  ,  0.01243578]],\n",
       "\n",
       "        [[-0.29223117,  0.19555202, -0.04095368,  0.49723583,\n",
       "           0.49945095, -0.32167715,  0.09663232, -0.25289038,\n",
       "          -0.4953511 ,  0.28099996,  0.09267131,  0.28685272,\n",
       "          -0.28883603, -0.14712523, -0.00426039, -0.1206718 ,\n",
       "           0.06194492,  0.31783918,  0.33449218,  0.24253365,\n",
       "          -0.05380667, -0.06574545,  0.18949275,  0.34039095]],\n",
       "\n",
       "        [[-0.15731739, -0.04940329,  0.1499135 ,  0.17779559,\n",
       "           0.11993239,  0.01647818,  0.05655979,  0.21037175,\n",
       "          -0.15311176,  0.08073666,  0.39257038, -0.17324439,\n",
       "          -0.21461028, -0.0169692 , -0.31984025, -0.00544979,\n",
       "          -0.09682879, -0.0815272 , -0.20311315,  0.08203856,\n",
       "           0.00384819, -0.04905803,  0.06811369,  0.32347223]]],\n",
       "\n",
       "\n",
       "       [[[-0.02517935, -0.09502479,  0.22371979,  0.02256265,\n",
       "          -0.00775068, -0.155515  , -0.15974762, -0.18168299,\n",
       "           0.26563406, -0.2843235 ,  0.20355137,  0.09653597,\n",
       "          -0.21793185, -0.18915637,  0.4407042 , -0.1879093 ,\n",
       "           0.03426706,  0.00762433,  0.21062459, -0.43950945,\n",
       "          -0.08331031, -0.09675871, -0.2330331 , -0.50085646]],\n",
       "\n",
       "        [[ 0.03803746, -0.31229714,  0.11297467, -0.27733076,\n",
       "          -0.06938931, -0.4965211 , -0.10439401, -0.15251769,\n",
       "          -0.41997656, -0.20950866,  0.10107032, -0.19713268,\n",
       "          -0.15331945, -0.2094759 , -0.06368916, -0.04945601,\n",
       "          -0.18844444,  0.32787994,  0.29480967, -0.05003845,\n",
       "          -0.04303276, -0.16103509,  0.24261305, -0.21416707]],\n",
       "\n",
       "        [[ 0.41151938, -0.00168999,  0.16863656, -0.280993  ,\n",
       "          -0.40903047,  0.14223851, -0.24172658,  0.260034  ,\n",
       "          -0.08631776, -0.22579847,  0.06024632, -0.38732958,\n",
       "          -0.3737524 , -0.04858059,  0.11897608, -0.16193573,\n",
       "          -0.00748559,  0.1968178 , -0.20288594,  0.16388597,\n",
       "           0.09787751, -0.10300884, -0.22591121, -0.03340814]]]],\n",
       "      dtype=float32)"
      ]
     },
     "execution_count": 12,
     "metadata": {},
     "output_type": "execute_result"
    }
   ],
   "source": [
    "layers[0].get_weights()[0]"
   ]
  },
  {
   "cell_type": "code",
   "execution_count": 17,
   "id": "b196f486",
   "metadata": {},
   "outputs": [
    {
     "name": "stdout",
     "output_type": "stream",
     "text": [
      "Probabilty is [1. 0. 0. 0. 0. 0. 0. 0. 0. 0.]\n"
     ]
    },
    {
     "data": {
      "image/png": "[encoded data removed]",
      "text/plain": [
       "<Figure size 640x480 with 1 Axes>"
      ]
     },
     "metadata": {},
     "output_type": "display_data"
    }
   ],
   "source": [
    "prediction = model.predict(test_x)\n",
    "plt.imshow(test_x[3], 'gray')\n",
    "print('Probabilty is {}'.format(prediction[3].round()))\n",
    "plt.title('Prediction is {}'.format(np.argmax(prediction[3])))\n",
    "plt.show()"
   ]
  },
  {
   "cell_type": "code",
   "execution_count": 14,
   "id": "d6583ffe",
   "metadata": {},
   "outputs": [
    {
     "name": "stdout",
     "output_type": "stream",
     "text": [
      "[<tensorflow.python.keras.layers.convolutional.Conv2D object at 0x00000246B59B8DC8>, <tensorflow.python.keras.layers.normalization_v2.BatchNormalization object at 0x00000246B5927CC8>, <tensorflow.python.keras.layers.convolutional.Conv2D object at 0x00000246B59CCBC8>, <tensorflow.python.keras.layers.normalization_v2.BatchNormalization object at 0x00000246B51120C8>, <tensorflow.python.keras.layers.convolutional.Conv2D object at 0x00000246B5A738C8>, <tensorflow.python.keras.layers.normalization_v2.BatchNormalization object at 0x00000246B5A73A88>, <tensorflow.python.keras.layers.pooling.MaxPooling2D object at 0x00000246B5A78D08>, <tensorflow.python.keras.layers.convolutional.Conv2D object at 0x00000246B5A78EC8>, <tensorflow.python.keras.layers.normalization_v2.BatchNormalization object at 0x00000246B5963F48>, <tensorflow.python.keras.layers.pooling.MaxPooling2D object at 0x00000246B5A78448>, <tensorflow.python.keras.layers.convolutional.Conv2D object at 0x00000246B5A78C48>, <tensorflow.python.keras.layers.normalization_v2.BatchNormalization object at 0x00000246B5A81688>, <tensorflow.python.keras.layers.pooling.MaxPooling2D object at 0x00000246B5A81DC8>, <tensorflow.python.keras.layers.core.Flatten object at 0x00000246B5A81FC8>, <tensorflow.python.keras.layers.core.Dense object at 0x00000246B50F5648>, <tensorflow.python.keras.layers.core.Dropout object at 0x00000246B538CA88>, <tensorflow.python.keras.layers.core.Dense object at 0x00000246B59A8948>]\n"
     ]
    }
   ],
   "source": [
    "layers=model.layers\n",
    "print(layers)"
   ]
  },
  {
   "cell_type": "code",
   "execution_count": 15,
   "id": "e10a94e8",
   "metadata": {},
   "outputs": [
    {
     "data": {
      "text/plain": [
       "array([[[[-0.21606608, -0.39789376, -0.39068624, -0.19612528,\n",
       "          -0.1470706 ,  0.32094106,  0.4010768 , -0.41146713,\n",
       "          -0.05142897,  0.1612396 ,  0.1550337 , -0.08023134,\n",
       "           0.41634014, -0.19755284, -0.12142774,  0.0403104 ,\n",
       "          -0.06641749,  0.05630464, -0.43982738,  0.26151413,\n",
       "          -0.41322812, -0.15386052,  0.00672518, -0.07957961]],\n",
       "\n",
       "        [[-0.31893563,  0.18598638, -0.39329582,  0.03174171,\n",
       "          -0.0542003 , -0.19143435, -0.04332691, -0.32737282,\n",
       "          -0.14019306, -0.1076633 , -0.38784188,  0.07072999,\n",
       "          -0.08276831,  0.11175524, -0.28576177, -0.26079875,\n",
       "          -0.12154811, -0.2334506 ,  0.10139485,  0.27191997,\n",
       "           0.22038147, -0.10264946, -0.14369524,  0.17068326]],\n",
       "\n",
       "        [[-0.38951126,  0.4496046 , -0.03421015,  0.2665366 ,\n",
       "           0.18582946, -0.33838713, -0.3702395 , -0.19477135,\n",
       "           0.41379684,  0.2673256 ,  0.13736771,  0.3358511 ,\n",
       "          -0.4447942 , -0.14995119, -0.18064137, -0.01767586,\n",
       "          -0.03587179, -0.49075267,  0.01131133, -0.10022758,\n",
       "          -0.22094224,  0.00526259, -0.16483048,  0.17674774]]],\n",
       "\n",
       "\n",
       "       [[[-0.03571755,  0.18881628,  0.23068461,  0.04891984,\n",
       "           0.16501996,  0.2487694 ,  0.41362092, -0.6872374 ,\n",
       "          -0.01663362,  0.38003343, -0.23366502,  0.2691642 ,\n",
       "           0.00096779, -0.13362077,  0.29145724, -0.19213445,\n",
       "          -0.16788173,  0.20824853,  0.06186628, -0.1782389 ,\n",
       "          -0.11982988,  0.00182489,  0.282104  ,  0.01243578]],\n",
       "\n",
       "        [[-0.29223117,  0.19555202, -0.04095368,  0.49723583,\n",
       "           0.49945095, -0.32167715,  0.09663232, -0.25289038,\n",
       "          -0.4953511 ,  0.28099996,  0.09267131,  0.28685272,\n",
       "          -0.28883603, -0.14712523, -0.00426039, -0.1206718 ,\n",
       "           0.06194492,  0.31783918,  0.33449218,  0.24253365,\n",
       "          -0.05380667, -0.06574545,  0.18949275,  0.34039095]],\n",
       "\n",
       "        [[-0.15731739, -0.04940329,  0.1499135 ,  0.17779559,\n",
       "           0.11993239,  0.01647818,  0.05655979,  0.21037175,\n",
       "          -0.15311176,  0.08073666,  0.39257038, -0.17324439,\n",
       "          -0.21461028, -0.0169692 , -0.31984025, -0.00544979,\n",
       "          -0.09682879, -0.0815272 , -0.20311315,  0.08203856,\n",
       "           0.00384819, -0.04905803,  0.06811369,  0.32347223]]],\n",
       "\n",
       "\n",
       "       [[[-0.02517935, -0.09502479,  0.22371979,  0.02256265,\n",
       "          -0.00775068, -0.155515  , -0.15974762, -0.18168299,\n",
       "           0.26563406, -0.2843235 ,  0.20355137,  0.09653597,\n",
       "          -0.21793185, -0.18915637,  0.4407042 , -0.1879093 ,\n",
       "           0.03426706,  0.00762433,  0.21062459, -0.43950945,\n",
       "          -0.08331031, -0.09675871, -0.2330331 , -0.50085646]],\n",
       "\n",
       "        [[ 0.03803746, -0.31229714,  0.11297467, -0.27733076,\n",
       "          -0.06938931, -0.4965211 , -0.10439401, -0.15251769,\n",
       "          -0.41997656, -0.20950866,  0.10107032, -0.19713268,\n",
       "          -0.15331945, -0.2094759 , -0.06368916, -0.04945601,\n",
       "          -0.18844444,  0.32787994,  0.29480967, -0.05003845,\n",
       "          -0.04303276, -0.16103509,  0.24261305, -0.21416707]],\n",
       "\n",
       "        [[ 0.41151938, -0.00168999,  0.16863656, -0.280993  ,\n",
       "          -0.40903047,  0.14223851, -0.24172658,  0.260034  ,\n",
       "          -0.08631776, -0.22579847,  0.06024632, -0.38732958,\n",
       "          -0.3737524 , -0.04858059,  0.11897608, -0.16193573,\n",
       "          -0.00748559,  0.1968178 , -0.20288594,  0.16388597,\n",
       "           0.09787751, -0.10300884, -0.22591121, -0.03340814]]]],\n",
       "      dtype=float32)"
      ]
     },
     "execution_count": 15,
     "metadata": {},
     "output_type": "execute_result"
    }
   ],
   "source": [
    "layers[0].get_weights()[0]"
   ]
  },
  {
   "cell_type": "code",
   "execution_count": 16,
   "id": "47dcb0ff",
   "metadata": {},
   "outputs": [
    {
     "data": {
      "text/plain": [
       "(3, 3, 1, 24)"
      ]
     },
     "execution_count": 16,
     "metadata": {},
     "output_type": "execute_result"
    }
   ],
   "source": [
    "layers[0].get_weights()[0].shape"
   ]
  },
  {
   "cell_type": "code",
   "execution_count": null,
   "id": "535e5016",
   "metadata": {},
   "outputs": [],
   "source": []
  }
 ],
 "metadata": {
  "kernelspec": {
   "display_name": "[2.1]",
   "language": "python",
   "name": "tfgpu2"
  },
  "language_info": {
   "codemirror_mode": {
    "name": "ipython",
    "version": 3
   },
   "file_extension": ".py",
   "mimetype": "text/x-python",
   "name": "python",
   "nbconvert_exporter": "python",
   "pygments_lexer": "ipython3",
   "version": "3.7.16"
  }
 },
 "nbformat": 4,
 "nbformat_minor": 5
}
