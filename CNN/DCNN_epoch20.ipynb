{
 "cells": [
  {
   "cell_type": "code",
   "execution_count": 1,
   "id": "eb2a7fa3",
   "metadata": {},
   "outputs": [
    {
     "name": "stdout",
     "output_type": "stream",
     "text": [
      "Num GPUs Available:  1\n"
     ]
    }
   ],
   "source": [
    "# 주로 사용하는 코드 2 : 인식한 GPU 개수 출력\n",
    "import tensorflow as tf\n",
    "print(\"Num GPUs Available: \", len(tf.config.experimental.list_physical_devices('GPU')))"
   ]
  },
  {
   "cell_type": "code",
   "execution_count": 1,
   "id": "9b42476c",
   "metadata": {},
   "outputs": [],
   "source": [
    "import numpy as np\n",
    "import matplotlib.pyplot as plt\n",
    "import tensorflow as tf\n",
    "from tensorflow.keras.datasets import mnist\n",
    "from tensorflow.keras.models import Sequential\n",
    "from tensorflow.keras.layers import Flatten, Dense, Conv2D, MaxPooling2D, BatchNormalization, Dropout\n",
    "from tensorflow.keras.losses import SparseCategoricalCrossentropy\n",
    "from tensorflow.keras.optimizers import Adam"
   ]
  },
  {
   "cell_type": "code",
   "execution_count": 2,
   "id": "f0e4ab04",
   "metadata": {},
   "outputs": [],
   "source": [
    "def load_mnist_dataset():  \n",
    "  (train_validation_images, train_validation_labels), (test_images, test_labels) \\\n",
    "    = mnist.load_data()\n",
    "\n",
    "  train_validation_images = train_validation_images.reshape(-1,28,28,1)\n",
    "  test_images = test_images.reshape(-1,28,28,1)\n",
    "  \n",
    "  train_validation_images = train_validation_images / 255.\n",
    "  test_images = test_images / 255.\n",
    "\n",
    "  n_train_validation = train_validation_images.shape[0]\n",
    "  train_ratio = 0.8\n",
    "  n_train = int(n_train_validation * train_ratio)\n",
    "\n",
    "  train_x = train_validation_images[:n_train]\n",
    "  train_y = train_validation_labels[:n_train]\n",
    "  validation_x = train_validation_images[n_train:]\n",
    "  validation_y = train_validation_labels[n_train:]\n",
    "  test_x = test_images\n",
    "  test_y = test_labels\n",
    "  \n",
    "  print('Train set')\n",
    "  print('Image :', train_x.shape)\n",
    "  print('Label :', train_y.shape)\n",
    "  print('Validation set')\n",
    "  print('Image :', validation_x.shape)\n",
    "  print('Label :', validation_y.shape)\n",
    "  print('Train & validation set')\n",
    "  print('Image :', test_x.shape)\n",
    "  print('Label :', test_y.shape)\n",
    "\n",
    "  return train_x, train_y, validation_x, validation_y, test_x, test_y"
   ]
  },
  {
   "cell_type": "code",
   "execution_count": 3,
   "id": "f6e6b78a",
   "metadata": {},
   "outputs": [
    {
     "name": "stdout",
     "output_type": "stream",
     "text": [
      "Train set\n",
      "Image : (48000, 28, 28, 1)\n",
      "Label : (48000,)\n",
      "Validation set\n",
      "Image : (12000, 28, 28, 1)\n",
      "Label : (12000,)\n",
      "Train & validation set\n",
      "Image : (10000, 28, 28, 1)\n",
      "Label : (10000,)\n"
     ]
    }
   ],
   "source": [
    "train_x, train_y, validation_x, validation_y, test_x, test_y = load_mnist_dataset()"
   ]
  },
  {
   "cell_type": "code",
   "execution_count": 4,
   "id": "249a1c49",
   "metadata": {},
   "outputs": [],
   "source": [
    "model = Sequential()\n",
    "model.add(Conv2D(filters=24, kernel_size=(3,3), padding='same', activation='relu'))\n",
    "model.add(BatchNormalization())\n",
    "model.add(Conv2D(filters=36, kernel_size=(3,3), padding='same', activation='relu'))\n",
    "model.add(BatchNormalization())\n",
    "model.add(Conv2D(filters=48, kernel_size=(3,3), padding='same', activation='relu'))\n",
    "model.add(BatchNormalization())\n",
    "model.add(MaxPooling2D(pool_size=(2,2), strides=(2,2)))\n",
    "model.add(Conv2D(filters=60, kernel_size=(3,3), padding='same', activation='relu'))\n",
    "model.add(BatchNormalization())\n",
    "model.add(MaxPooling2D(pool_size=(2,2), strides=(2,2)))\n",
    "model.add(Conv2D(filters=72, kernel_size=(3,3), padding='same', activation='relu'))\n",
    "model.add(BatchNormalization())\n",
    "model.add(MaxPooling2D(pool_size=(2,2), strides=(2,2)))\n",
    "model.add(Flatten())\n",
    "model.add(Dense(128, activation='relu'))\n",
    "model.add(Dropout(0.5))\n",
    "model.add(Dense(10, activation='softmax'))\n",
    "\n",
    "model.compile(loss='sparse_categorical_crossentropy', optimizer='Adam', metrics=['accuracy'])"
   ]
  },
  {
   "cell_type": "code",
   "execution_count": 5,
   "id": "f391a6f2",
   "metadata": {},
   "outputs": [
    {
     "name": "stdout",
     "output_type": "stream",
     "text": [
      "Conv2D output shape:\t (1, 28, 28, 24)\n",
      "BatchNormalization output shape:\t (1, 28, 28, 24)\n",
      "Conv2D output shape:\t (1, 28, 28, 36)\n",
      "BatchNormalization output shape:\t (1, 28, 28, 36)\n",
      "Conv2D output shape:\t (1, 28, 28, 48)\n",
      "BatchNormalization output shape:\t (1, 28, 28, 48)\n",
      "MaxPooling2D output shape:\t (1, 14, 14, 48)\n",
      "Conv2D output shape:\t (1, 14, 14, 60)\n",
      "BatchNormalization output shape:\t (1, 14, 14, 60)\n",
      "MaxPooling2D output shape:\t (1, 7, 7, 60)\n",
      "Conv2D output shape:\t (1, 7, 7, 72)\n",
      "BatchNormalization output shape:\t (1, 7, 7, 72)\n",
      "MaxPooling2D output shape:\t (1, 3, 3, 72)\n",
      "Flatten output shape:\t (1, 648)\n",
      "Dense output shape:\t (1, 128)\n",
      "Dropout output shape:\t (1, 128)\n",
      "Dense output shape:\t (1, 10)\n"
     ]
    }
   ],
   "source": [
    "x = tf.random.uniform(shape=(1,28,28,1))\n",
    "for layer in model.layers:\n",
    "    x=layer(x)\n",
    "    print(layer.__class__.__name__, 'output shape:\\t',x.shape)"
   ]
  },
  {
   "cell_type": "code",
   "execution_count": 6,
   "id": "a4498fc0",
   "metadata": {},
   "outputs": [
    {
     "name": "stdout",
     "output_type": "stream",
     "text": [
      "Train on 48000 samples, validate on 12000 samples\n",
      "Epoch 1/20\n",
      "48000/48000 - 17s - loss: 0.2155 - accuracy: 0.9383 - val_loss: 0.0771 - val_accuracy: 0.9799\n",
      "Epoch 2/20\n",
      "48000/48000 - 15s - loss: 0.0996 - accuracy: 0.9738 - val_loss: 0.0613 - val_accuracy: 0.9846\n",
      "Epoch 3/20\n",
      "48000/48000 - 15s - loss: 0.0732 - accuracy: 0.9808 - val_loss: 0.0392 - val_accuracy: 0.9899\n",
      "Epoch 4/20\n",
      "48000/48000 - 15s - loss: 0.0603 - accuracy: 0.9842 - val_loss: 0.0347 - val_accuracy: 0.9911\n",
      "Epoch 5/20\n",
      "48000/48000 - 15s - loss: 0.0493 - accuracy: 0.9863 - val_loss: 0.0493 - val_accuracy: 0.9882\n",
      "Epoch 6/20\n",
      "48000/48000 - 15s - loss: 0.0435 - accuracy: 0.9884 - val_loss: 0.0428 - val_accuracy: 0.9901\n",
      "Epoch 7/20\n",
      "48000/48000 - 15s - loss: 0.0395 - accuracy: 0.9891 - val_loss: 0.0370 - val_accuracy: 0.9915\n",
      "Epoch 8/20\n",
      "48000/48000 - 15s - loss: 0.0342 - accuracy: 0.9912 - val_loss: 0.0484 - val_accuracy: 0.9898\n",
      "Epoch 9/20\n",
      "48000/48000 - 15s - loss: 0.0294 - accuracy: 0.9919 - val_loss: 0.0431 - val_accuracy: 0.9920\n",
      "Epoch 10/20\n",
      "48000/48000 - 15s - loss: 0.0261 - accuracy: 0.9929 - val_loss: 0.0349 - val_accuracy: 0.9924\n",
      "Epoch 11/20\n",
      "48000/48000 - 15s - loss: 0.0229 - accuracy: 0.9940 - val_loss: 0.0427 - val_accuracy: 0.9936\n",
      "Epoch 12/20\n",
      "48000/48000 - 15s - loss: 0.0231 - accuracy: 0.9937 - val_loss: 0.0404 - val_accuracy: 0.9939\n",
      "Epoch 13/20\n",
      "48000/48000 - 15s - loss: 0.0205 - accuracy: 0.9942 - val_loss: 0.0571 - val_accuracy: 0.9909\n",
      "Epoch 14/20\n",
      "48000/48000 - 15s - loss: 0.0209 - accuracy: 0.9945 - val_loss: 0.0414 - val_accuracy: 0.9936\n",
      "Epoch 15/20\n",
      "48000/48000 - 15s - loss: 0.0174 - accuracy: 0.9950 - val_loss: 0.0470 - val_accuracy: 0.9932\n",
      "Epoch 16/20\n",
      "48000/48000 - 15s - loss: 0.0153 - accuracy: 0.9957 - val_loss: 0.0524 - val_accuracy: 0.9930\n",
      "Epoch 17/20\n",
      "48000/48000 - 15s - loss: 0.0159 - accuracy: 0.9954 - val_loss: 0.0561 - val_accuracy: 0.9926\n",
      "Epoch 18/20\n",
      "48000/48000 - 15s - loss: 0.0171 - accuracy: 0.9954 - val_loss: 0.0506 - val_accuracy: 0.9923\n",
      "Epoch 19/20\n",
      "48000/48000 - 15s - loss: 0.0161 - accuracy: 0.9957 - val_loss: 0.0526 - val_accuracy: 0.9932\n",
      "Epoch 20/20\n",
      "48000/48000 - 15s - loss: 0.0152 - accuracy: 0.9960 - val_loss: 0.0465 - val_accuracy: 0.9930\n"
     ]
    }
   ],
   "source": [
    "history = model.fit(train_x, train_y, batch_size=9, epochs=20,\\\n",
    "                    verbose=2, validation_data=(validation_x, validation_y))"
   ]
  },
  {
   "cell_type": "code",
   "execution_count": 7,
   "id": "29d9bb71",
   "metadata": {},
   "outputs": [
    {
     "name": "stdout",
     "output_type": "stream",
     "text": [
      "Model: \"sequential\"\n",
      "_________________________________________________________________\n",
      "Layer (type)                 Output Shape              Param #   \n",
      "=================================================================\n",
      "conv2d (Conv2D)              multiple                  240       \n",
      "_________________________________________________________________\n",
      "batch_normalization (BatchNo multiple                  96        \n",
      "_________________________________________________________________\n",
      "conv2d_1 (Conv2D)            multiple                  7812      \n",
      "_________________________________________________________________\n",
      "batch_normalization_1 (Batch multiple                  144       \n",
      "_________________________________________________________________\n",
      "conv2d_2 (Conv2D)            multiple                  15600     \n",
      "_________________________________________________________________\n",
      "batch_normalization_2 (Batch multiple                  192       \n",
      "_________________________________________________________________\n",
      "max_pooling2d (MaxPooling2D) multiple                  0         \n",
      "_________________________________________________________________\n",
      "conv2d_3 (Conv2D)            multiple                  25980     \n",
      "_________________________________________________________________\n",
      "batch_normalization_3 (Batch multiple                  240       \n",
      "_________________________________________________________________\n",
      "max_pooling2d_1 (MaxPooling2 multiple                  0         \n",
      "_________________________________________________________________\n",
      "conv2d_4 (Conv2D)            multiple                  38952     \n",
      "_________________________________________________________________\n",
      "batch_normalization_4 (Batch multiple                  288       \n",
      "_________________________________________________________________\n",
      "max_pooling2d_2 (MaxPooling2 multiple                  0         \n",
      "_________________________________________________________________\n",
      "flatten (Flatten)            multiple                  0         \n",
      "_________________________________________________________________\n",
      "dense (Dense)                multiple                  83072     \n",
      "_________________________________________________________________\n",
      "dropout (Dropout)            multiple                  0         \n",
      "_________________________________________________________________\n",
      "dense_1 (Dense)              multiple                  1290      \n",
      "=================================================================\n",
      "Total params: 173,906\n",
      "Trainable params: 173,426\n",
      "Non-trainable params: 480\n",
      "_________________________________________________________________\n"
     ]
    }
   ],
   "source": [
    "model.summary()"
   ]
  },
  {
   "cell_type": "code",
   "execution_count": 8,
   "id": "216bd26f",
   "metadata": {},
   "outputs": [
    {
     "name": "stderr",
     "output_type": "stream",
     "text": [
      "C:\\Users\\tlsdu\\anaconda3\\envs\\tfgpu\\lib\\site-packages\\ipykernel_launcher.py:14: UserWarning: Matplotlib is currently using module://matplotlib_inline.backend_inline, which is a non-GUI backend, so cannot show the figure.\n",
      "  \n"
     ]
    },
    {
     "data": {
      "image/png": "[encoded data removed]",
      "text/plain": [
       "<Figure size 640x480 with 2 Axes>"
      ]
     },
     "metadata": {},
     "output_type": "display_data"
    }
   ],
   "source": [
    "fig, axes = plt.subplots(2,1)\n",
    "\n",
    "axes[0].plot(history.history['loss'], label='Train loss')\n",
    "axes[0].plot(history.history['val_loss'], label='Validation loss')\n",
    "axes[0].set_ylabel('Crossentropy')\n",
    "axes[0].legend()\n",
    "\n",
    "axes[1].plot(history.history['accuracy'], label='Train accuracy')\n",
    "axes[1].plot(history.history['val_accuracy'], label='Validation accuracy')\n",
    "axes[1].set_ylabel('Accuarcy')\n",
    "axes[1].legend()\n",
    "axes[1].set_xlabel('Epochs')\n",
    "\n",
    "fig.show()"
   ]
  },
  {
   "cell_type": "code",
   "execution_count": 9,
   "id": "6f7f0d49",
   "metadata": {},
   "outputs": [
    {
     "name": "stdout",
     "output_type": "stream",
     "text": [
      "10000/10000 - 1s - loss: 0.0316 - accuracy: 0.9934\n",
      "Test loss : 0.0316\t Test accuracy : 99.34%\n"
     ]
    }
   ],
   "source": [
    "result= model.evaluate(test_x, test_y, verbose=2)\n",
    "\n",
    "print('Test loss : {:.4f}\\t Test accuracy : {:.2f}%'.format(result[0], result[1]*100))"
   ]
  },
  {
   "cell_type": "code",
   "execution_count": 10,
   "id": "aca0a3c4",
   "metadata": {},
   "outputs": [
    {
     "name": "stdout",
     "output_type": "stream",
     "text": [
      "[<tensorflow.python.keras.layers.convolutional.Conv2D object at 0x000001CBDD48E888>, <tensorflow.python.keras.layers.normalization_v2.BatchNormalization object at 0x000001CBDD482308>, <tensorflow.python.keras.layers.convolutional.Conv2D object at 0x000001CBDD482E48>, <tensorflow.python.keras.layers.normalization_v2.BatchNormalization object at 0x000001CBDD486988>, <tensorflow.python.keras.layers.convolutional.Conv2D object at 0x000001CBDD486C48>, <tensorflow.python.keras.layers.normalization_v2.BatchNormalization object at 0x000001CBDD4BDA88>, <tensorflow.python.keras.layers.pooling.MaxPooling2D object at 0x000001CBDD4BDB48>, <tensorflow.python.keras.layers.convolutional.Conv2D object at 0x000001CBDD4BF808>, <tensorflow.python.keras.layers.normalization_v2.BatchNormalization object at 0x000001CBDD452648>, <tensorflow.python.keras.layers.pooling.MaxPooling2D object at 0x000001CBDD4C0F88>, <tensorflow.python.keras.layers.convolutional.Conv2D object at 0x000001CBDD4BF588>, <tensorflow.python.keras.layers.normalization_v2.BatchNormalization object at 0x000001CBDD4C3E08>, <tensorflow.python.keras.layers.pooling.MaxPooling2D object at 0x000001CBDD4C9888>, <tensorflow.python.keras.layers.core.Flatten object at 0x000001CBDD4C9C48>, <tensorflow.python.keras.layers.core.Dense object at 0x000001CBDD4CD508>, <tensorflow.python.keras.layers.core.Dropout object at 0x000001CBDD4CDB88>, <tensorflow.python.keras.layers.core.Dense object at 0x000001CBDD4CDD48>]\n"
     ]
    }
   ],
   "source": [
    "layers=model.layers\n",
    "print(layers)"
   ]
  },
  {
   "cell_type": "code",
   "execution_count": 11,
   "id": "1adf19f6",
   "metadata": {},
   "outputs": [
    {
     "data": {
      "text/plain": [
       "array([[[[ 2.97602206e-01, -5.11539839e-02, -2.09960654e-01,\n",
       "          -1.27585053e-01,  6.01459146e-01, -2.35737130e-01,\n",
       "          -2.42214829e-01, -7.89800435e-02,  2.09722847e-01,\n",
       "          -1.45770162e-01, -5.32212675e-01, -1.82865083e-01,\n",
       "           2.44286329e-01,  4.54746075e-02, -4.29797739e-01,\n",
       "          -1.69931471e-01, -2.65855193e-01, -1.01098821e-01,\n",
       "           7.11801350e-02,  5.77871352e-02,  3.74088764e-01,\n",
       "          -2.51417190e-01, -4.47934777e-01, -1.50855646e-01]],\n",
       "\n",
       "        [[-2.00749189e-01, -2.73648389e-02, -1.65824875e-01,\n",
       "           5.85936382e-03,  7.63730705e-02, -2.99483925e-01,\n",
       "           2.11383477e-01,  3.98819268e-01,  2.19998330e-01,\n",
       "          -1.88074453e-04, -9.90873873e-02, -1.88581611e-03,\n",
       "           2.75781661e-01, -1.13261960e-01, -2.50345498e-01,\n",
       "           4.55268063e-02, -6.67385638e-01, -1.04032703e-01,\n",
       "          -5.58108129e-02,  1.38481408e-01,  6.09017849e-01,\n",
       "          -2.00393647e-01, -5.40378153e-01, -2.93218911e-01]],\n",
       "\n",
       "        [[-6.64655566e-01, -1.17425516e-01,  8.99070594e-03,\n",
       "          -7.84457773e-02, -5.25474250e-02, -5.69214106e-01,\n",
       "           4.62811798e-01,  3.71047199e-01,  3.92696530e-01,\n",
       "          -1.54197216e-01,  7.57845417e-02,  3.67759079e-01,\n",
       "          -1.21169113e-01, -5.70115745e-01,  4.87589031e-01,\n",
       "          -4.03541625e-01,  2.73984164e-01, -4.24306020e-02,\n",
       "           4.20210481e-01, -4.84221607e-01, -1.30369842e-01,\n",
       "          -1.86732814e-01,  9.41106528e-02, -3.31128687e-01]]],\n",
       "\n",
       "\n",
       "       [[[ 2.21921861e-01, -1.37938172e-01,  2.89599895e-01,\n",
       "          -6.77910447e-02,  5.76082915e-02, -3.82885754e-01,\n",
       "           1.89437196e-01,  5.80677763e-02, -4.76981066e-02,\n",
       "           2.16632858e-02, -7.30065882e-01, -4.49439734e-01,\n",
       "          -1.33917570e-01,  2.96702355e-01, -8.81370783e-01,\n",
       "          -6.27525270e-01,  2.57419348e-01, -2.16494381e-01,\n",
       "          -4.14553173e-02, -3.09532791e-01,  4.57119077e-01,\n",
       "          -2.08012924e-01,  2.02756122e-01,  1.35786965e-01]],\n",
       "\n",
       "        [[-8.73945132e-02, -6.43400699e-02, -3.48086983e-01,\n",
       "          -9.97439176e-02, -9.97915044e-02, -2.61291206e-01,\n",
       "           1.81224123e-01,  1.46814197e-01,  3.33345234e-01,\n",
       "          -7.30538666e-02,  1.12215094e-01, -7.50424191e-02,\n",
       "           5.46115004e-02,  3.53772312e-01, -1.45986393e-01,\n",
       "          -9.87730101e-02,  1.90657601e-01, -1.34078667e-01,\n",
       "           3.71197730e-01,  3.80897492e-01,  2.41454020e-01,\n",
       "          -3.01893186e-02,  1.05748773e-01, -2.42706716e-01]],\n",
       "\n",
       "        [[-4.51068193e-01, -5.55056483e-02, -3.18437994e-01,\n",
       "          -2.27688715e-01, -3.27329755e-01, -2.16061607e-01,\n",
       "           5.44316135e-02, -3.38898987e-01, -1.32377297e-01,\n",
       "          -6.57664061e-01,  4.77434844e-01,  4.65253502e-01,\n",
       "           4.69675243e-01, -4.44983512e-01,  3.75617474e-01,\n",
       "          -2.54294574e-01,  2.44323313e-01,  2.87566781e-02,\n",
       "           3.46868098e-01,  2.58765757e-01, -1.29849300e-01,\n",
       "           4.02940512e-01, -1.99026167e-01, -2.66601205e-01]]],\n",
       "\n",
       "\n",
       "       [[[ 4.01266396e-01, -1.51991859e-01, -7.78402463e-02,\n",
       "          -1.30295023e-01,  9.54724625e-02, -8.55265334e-02,\n",
       "           1.44097760e-01,  2.01541886e-01,  4.49767187e-02,\n",
       "           4.85984653e-01, -5.38311303e-01,  2.08520919e-01,\n",
       "          -6.17683113e-01,  2.82752037e-01, -1.00295568e+00,\n",
       "          -4.37279642e-01,  2.87316352e-01, -5.97267300e-02,\n",
       "          -5.18698454e-01, -3.88643771e-01, -4.49654967e-01,\n",
       "          -1.14292309e-01,  4.78753328e-01,  1.77946106e-01]],\n",
       "\n",
       "        [[ 1.40439764e-01, -1.35287777e-01, -4.47872788e-01,\n",
       "          -8.55208784e-02, -3.65742803e-01,  1.12248659e-01,\n",
       "          -4.80117649e-01, -2.65288949e-01, -5.48606813e-01,\n",
       "           3.75454366e-01, -2.12705478e-01,  2.29768276e-01,\n",
       "           3.21697295e-02,  4.54354018e-01, -2.85878360e-01,\n",
       "           1.63653567e-02,  5.83053455e-02,  4.42378707e-02,\n",
       "          -5.64136684e-01,  1.76157519e-01, -1.64625868e-01,\n",
       "           3.89657021e-01,  1.56768575e-01,  4.19163525e-01]],\n",
       "\n",
       "        [[ 1.84022918e-01,  4.44640070e-02, -2.44165108e-01,\n",
       "          -2.43270658e-02, -5.49921989e-01,  5.98244727e-01,\n",
       "          -5.60342133e-01, -6.56841993e-01, -4.72415149e-01,\n",
       "          -3.04758608e-01,  3.91217828e-01,  1.14792865e-02,\n",
       "           6.50100335e-02, -4.32782173e-02, -1.24359474e-01,\n",
       "           4.62304503e-01, -2.02606604e-01, -7.14393035e-02,\n",
       "          -2.31883958e-01,  3.26581240e-01,  1.03767151e-02,\n",
       "           8.12920630e-01, -2.16077492e-01,  4.56493109e-01]]]],\n",
       "      dtype=float32)"
      ]
     },
     "execution_count": 11,
     "metadata": {},
     "output_type": "execute_result"
    }
   ],
   "source": [
    "layers[0].get_weights()[0]"
   ]
  },
  {
   "cell_type": "code",
   "execution_count": 20,
   "id": "7f53af8e",
   "metadata": {
    "scrolled": true
   },
   "outputs": [
    {
     "name": "stdout",
     "output_type": "stream",
     "text": [
      "Probabilty is [1. 0. 0. 0. 0. 0. 0. 0. 0. 0.]\n"
     ]
    },
    {
     "data": {
      "image/png": "[encoded data removed]",
      "text/plain": [
       "<Figure size 640x480 with 1 Axes>"
      ]
     },
     "metadata": {},
     "output_type": "display_data"
    }
   ],
   "source": [
    "prediction = model.predict(test_x)\n",
    "plt.imshow(test_x[3], 'gray')\n",
    "print('Probabilty is {}'.format(prediction[3].round()))\n",
    "plt.title('Prediction is {}'.format(np.argmax(prediction[3])))\n",
    "plt.show()"
   ]
  },
  {
   "cell_type": "code",
   "execution_count": 13,
   "id": "7849386e",
   "metadata": {},
   "outputs": [
    {
     "name": "stdout",
     "output_type": "stream",
     "text": [
      "[<tensorflow.python.keras.layers.convolutional.Conv2D object at 0x000001CBDD48E888>, <tensorflow.python.keras.layers.normalization_v2.BatchNormalization object at 0x000001CBDD482308>, <tensorflow.python.keras.layers.convolutional.Conv2D object at 0x000001CBDD482E48>, <tensorflow.python.keras.layers.normalization_v2.BatchNormalization object at 0x000001CBDD486988>, <tensorflow.python.keras.layers.convolutional.Conv2D object at 0x000001CBDD486C48>, <tensorflow.python.keras.layers.normalization_v2.BatchNormalization object at 0x000001CBDD4BDA88>, <tensorflow.python.keras.layers.pooling.MaxPooling2D object at 0x000001CBDD4BDB48>, <tensorflow.python.keras.layers.convolutional.Conv2D object at 0x000001CBDD4BF808>, <tensorflow.python.keras.layers.normalization_v2.BatchNormalization object at 0x000001CBDD452648>, <tensorflow.python.keras.layers.pooling.MaxPooling2D object at 0x000001CBDD4C0F88>, <tensorflow.python.keras.layers.convolutional.Conv2D object at 0x000001CBDD4BF588>, <tensorflow.python.keras.layers.normalization_v2.BatchNormalization object at 0x000001CBDD4C3E08>, <tensorflow.python.keras.layers.pooling.MaxPooling2D object at 0x000001CBDD4C9888>, <tensorflow.python.keras.layers.core.Flatten object at 0x000001CBDD4C9C48>, <tensorflow.python.keras.layers.core.Dense object at 0x000001CBDD4CD508>, <tensorflow.python.keras.layers.core.Dropout object at 0x000001CBDD4CDB88>, <tensorflow.python.keras.layers.core.Dense object at 0x000001CBDD4CDD48>]\n"
     ]
    }
   ],
   "source": [
    "layers=model.layers\n",
    "print(layers)"
   ]
  },
  {
   "cell_type": "code",
   "execution_count": 14,
   "id": "0f99e563",
   "metadata": {},
   "outputs": [
    {
     "data": {
      "text/plain": [
       "array([[[[ 2.97602206e-01, -5.11539839e-02, -2.09960654e-01,\n",
       "          -1.27585053e-01,  6.01459146e-01, -2.35737130e-01,\n",
       "          -2.42214829e-01, -7.89800435e-02,  2.09722847e-01,\n",
       "          -1.45770162e-01, -5.32212675e-01, -1.82865083e-01,\n",
       "           2.44286329e-01,  4.54746075e-02, -4.29797739e-01,\n",
       "          -1.69931471e-01, -2.65855193e-01, -1.01098821e-01,\n",
       "           7.11801350e-02,  5.77871352e-02,  3.74088764e-01,\n",
       "          -2.51417190e-01, -4.47934777e-01, -1.50855646e-01]],\n",
       "\n",
       "        [[-2.00749189e-01, -2.73648389e-02, -1.65824875e-01,\n",
       "           5.85936382e-03,  7.63730705e-02, -2.99483925e-01,\n",
       "           2.11383477e-01,  3.98819268e-01,  2.19998330e-01,\n",
       "          -1.88074453e-04, -9.90873873e-02, -1.88581611e-03,\n",
       "           2.75781661e-01, -1.13261960e-01, -2.50345498e-01,\n",
       "           4.55268063e-02, -6.67385638e-01, -1.04032703e-01,\n",
       "          -5.58108129e-02,  1.38481408e-01,  6.09017849e-01,\n",
       "          -2.00393647e-01, -5.40378153e-01, -2.93218911e-01]],\n",
       "\n",
       "        [[-6.64655566e-01, -1.17425516e-01,  8.99070594e-03,\n",
       "          -7.84457773e-02, -5.25474250e-02, -5.69214106e-01,\n",
       "           4.62811798e-01,  3.71047199e-01,  3.92696530e-01,\n",
       "          -1.54197216e-01,  7.57845417e-02,  3.67759079e-01,\n",
       "          -1.21169113e-01, -5.70115745e-01,  4.87589031e-01,\n",
       "          -4.03541625e-01,  2.73984164e-01, -4.24306020e-02,\n",
       "           4.20210481e-01, -4.84221607e-01, -1.30369842e-01,\n",
       "          -1.86732814e-01,  9.41106528e-02, -3.31128687e-01]]],\n",
       "\n",
       "\n",
       "       [[[ 2.21921861e-01, -1.37938172e-01,  2.89599895e-01,\n",
       "          -6.77910447e-02,  5.76082915e-02, -3.82885754e-01,\n",
       "           1.89437196e-01,  5.80677763e-02, -4.76981066e-02,\n",
       "           2.16632858e-02, -7.30065882e-01, -4.49439734e-01,\n",
       "          -1.33917570e-01,  2.96702355e-01, -8.81370783e-01,\n",
       "          -6.27525270e-01,  2.57419348e-01, -2.16494381e-01,\n",
       "          -4.14553173e-02, -3.09532791e-01,  4.57119077e-01,\n",
       "          -2.08012924e-01,  2.02756122e-01,  1.35786965e-01]],\n",
       "\n",
       "        [[-8.73945132e-02, -6.43400699e-02, -3.48086983e-01,\n",
       "          -9.97439176e-02, -9.97915044e-02, -2.61291206e-01,\n",
       "           1.81224123e-01,  1.46814197e-01,  3.33345234e-01,\n",
       "          -7.30538666e-02,  1.12215094e-01, -7.50424191e-02,\n",
       "           5.46115004e-02,  3.53772312e-01, -1.45986393e-01,\n",
       "          -9.87730101e-02,  1.90657601e-01, -1.34078667e-01,\n",
       "           3.71197730e-01,  3.80897492e-01,  2.41454020e-01,\n",
       "          -3.01893186e-02,  1.05748773e-01, -2.42706716e-01]],\n",
       "\n",
       "        [[-4.51068193e-01, -5.55056483e-02, -3.18437994e-01,\n",
       "          -2.27688715e-01, -3.27329755e-01, -2.16061607e-01,\n",
       "           5.44316135e-02, -3.38898987e-01, -1.32377297e-01,\n",
       "          -6.57664061e-01,  4.77434844e-01,  4.65253502e-01,\n",
       "           4.69675243e-01, -4.44983512e-01,  3.75617474e-01,\n",
       "          -2.54294574e-01,  2.44323313e-01,  2.87566781e-02,\n",
       "           3.46868098e-01,  2.58765757e-01, -1.29849300e-01,\n",
       "           4.02940512e-01, -1.99026167e-01, -2.66601205e-01]]],\n",
       "\n",
       "\n",
       "       [[[ 4.01266396e-01, -1.51991859e-01, -7.78402463e-02,\n",
       "          -1.30295023e-01,  9.54724625e-02, -8.55265334e-02,\n",
       "           1.44097760e-01,  2.01541886e-01,  4.49767187e-02,\n",
       "           4.85984653e-01, -5.38311303e-01,  2.08520919e-01,\n",
       "          -6.17683113e-01,  2.82752037e-01, -1.00295568e+00,\n",
       "          -4.37279642e-01,  2.87316352e-01, -5.97267300e-02,\n",
       "          -5.18698454e-01, -3.88643771e-01, -4.49654967e-01,\n",
       "          -1.14292309e-01,  4.78753328e-01,  1.77946106e-01]],\n",
       "\n",
       "        [[ 1.40439764e-01, -1.35287777e-01, -4.47872788e-01,\n",
       "          -8.55208784e-02, -3.65742803e-01,  1.12248659e-01,\n",
       "          -4.80117649e-01, -2.65288949e-01, -5.48606813e-01,\n",
       "           3.75454366e-01, -2.12705478e-01,  2.29768276e-01,\n",
       "           3.21697295e-02,  4.54354018e-01, -2.85878360e-01,\n",
       "           1.63653567e-02,  5.83053455e-02,  4.42378707e-02,\n",
       "          -5.64136684e-01,  1.76157519e-01, -1.64625868e-01,\n",
       "           3.89657021e-01,  1.56768575e-01,  4.19163525e-01]],\n",
       "\n",
       "        [[ 1.84022918e-01,  4.44640070e-02, -2.44165108e-01,\n",
       "          -2.43270658e-02, -5.49921989e-01,  5.98244727e-01,\n",
       "          -5.60342133e-01, -6.56841993e-01, -4.72415149e-01,\n",
       "          -3.04758608e-01,  3.91217828e-01,  1.14792865e-02,\n",
       "           6.50100335e-02, -4.32782173e-02, -1.24359474e-01,\n",
       "           4.62304503e-01, -2.02606604e-01, -7.14393035e-02,\n",
       "          -2.31883958e-01,  3.26581240e-01,  1.03767151e-02,\n",
       "           8.12920630e-01, -2.16077492e-01,  4.56493109e-01]]]],\n",
       "      dtype=float32)"
      ]
     },
     "execution_count": 14,
     "metadata": {},
     "output_type": "execute_result"
    }
   ],
   "source": [
    "layers[0].get_weights()[0]"
   ]
  },
  {
   "cell_type": "code",
   "execution_count": 15,
   "id": "18ae4dbd",
   "metadata": {},
   "outputs": [
    {
     "data": {
      "text/plain": [
       "(3, 3, 1, 24)"
      ]
     },
     "execution_count": 15,
     "metadata": {},
     "output_type": "execute_result"
    }
   ],
   "source": [
    "layers[0].get_weights()[0].shape"
   ]
  },
  {
   "cell_type": "code",
   "execution_count": null,
   "id": "d8821e56",
   "metadata": {},
   "outputs": [],
   "source": []
  }
 ],
 "metadata": {
  "kernelspec": {
   "display_name": "[2.1]",
   "language": "python",
   "name": "tfgpu2"
  },
  "language_info": {
   "codemirror_mode": {
    "name": "ipython",
    "version": 3
   },
   "file_extension": ".py",
   "mimetype": "text/x-python",
   "name": "python",
   "nbconvert_exporter": "python",
   "pygments_lexer": "ipython3",
   "version": "3.7.16"
  }
 },
 "nbformat": 4,
 "nbformat_minor": 5
}
