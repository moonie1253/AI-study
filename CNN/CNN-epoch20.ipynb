{
 "cells": [
  {
   "cell_type": "code",
   "execution_count": 1,
   "id": "7258a805",
   "metadata": {},
   "outputs": [],
   "source": [
    "import numpy as np\n",
    "import matplotlib.pyplot as plt\n",
    "import tensorflow as tf\n",
    "from tensorflow.keras.datasets import mnist\n",
    "from tensorflow.keras.models import Sequential\n",
    "from tensorflow.keras.layers import Flatten, Dense, Conv2D, MaxPooling2D\n",
    "from tensorflow.keras.losses import SparseCategoricalCrossentropy\n",
    "from tensorflow.keras.optimizers import Adam"
   ]
  },
  {
   "cell_type": "code",
   "execution_count": 2,
   "id": "3081090f",
   "metadata": {},
   "outputs": [],
   "source": [
    "def load_mnist_dataset():  \n",
    "  (train_validation_images, train_validation_labels), (test_images, test_labels) \\\n",
    "    = mnist.load_data()\n",
    "\n",
    "  train_validation_images = train_validation_images.reshape(-1,28,28,1)\n",
    "  test_images = test_images.reshape(-1,28,28,1)\n",
    "  \n",
    "  train_validation_images = train_validation_images / 255.\n",
    "  test_images = test_images / 255.\n",
    "\n",
    "  n_train_validation = train_validation_images.shape[0]\n",
    "  train_ratio = 0.8\n",
    "  n_train = int(n_train_validation * train_ratio)\n",
    "\n",
    "  train_x = train_validation_images[:n_train]\n",
    "  train_y = train_validation_labels[:n_train]\n",
    "  validation_x = train_validation_images[n_train:]\n",
    "  validation_y = train_validation_labels[n_train:]\n",
    "  test_x = test_images\n",
    "  test_y = test_labels\n",
    "  \n",
    "  print('Train set')\n",
    "  print('Image :', train_x.shape)\n",
    "  print('Label :', train_y.shape)\n",
    "  print('Validation set')\n",
    "  print('Image :', validation_x.shape)\n",
    "  print('Label :', validation_y.shape)\n",
    "  print('Train & validation set')\n",
    "  print('Image :', test_x.shape)\n",
    "  print('Label :', test_y.shape)\n",
    "\n",
    "  return train_x, train_y, validation_x, validation_y, test_x, test_y"
   ]
  },
  {
   "cell_type": "code",
   "execution_count": 3,
   "id": "ef5b054d",
   "metadata": {},
   "outputs": [
    {
     "name": "stdout",
     "output_type": "stream",
     "text": [
      "Train set\n",
      "Image : (48000, 28, 28, 1)\n",
      "Label : (48000,)\n",
      "Validation set\n",
      "Image : (12000, 28, 28, 1)\n",
      "Label : (12000,)\n",
      "Train & validation set\n",
      "Image : (10000, 28, 28, 1)\n",
      "Label : (10000,)\n"
     ]
    }
   ],
   "source": [
    "train_x, train_y, validation_x, validation_y, test_x, test_y = load_mnist_dataset()"
   ]
  },
  {
   "cell_type": "code",
   "execution_count": 4,
   "id": "b4661b18",
   "metadata": {},
   "outputs": [],
   "source": [
    "model = Sequential()\n",
    "model.add(Conv2D(filters=24, kernel_size=(3,3), padding='valid', activation='relu'))\n",
    "model.add(MaxPooling2D(pool_size=(2,2), strides=(2,2)))\n",
    "model.add(Conv2D(filters=36, kernel_size=(3,3), padding='valid', activation='relu'))\n",
    "model.add(MaxPooling2D(pool_size=(2,2), strides=(2,2)))\n",
    "model.add(Flatten())\n",
    "model.add(Dense(128, activation='relu'))\n",
    "model.add(Dense(10, activation='softmax'))\n",
    "\n",
    "model.compile(loss='sparse_categorical_crossentropy', optimizer='Adam', metrics=['accuracy'])"
   ]
  },
  {
   "cell_type": "code",
   "execution_count": 5,
   "id": "ac7cc00f",
   "metadata": {},
   "outputs": [
    {
     "name": "stdout",
     "output_type": "stream",
     "text": [
      "Train on 48000 samples, validate on 12000 samples\n",
      "Epoch 1/20\n",
      "48000/48000 - 11s - loss: 0.1232 - accuracy: 0.9622 - val_loss: 0.0536 - val_accuracy: 0.9835\n",
      "Epoch 2/20\n",
      "48000/48000 - 9s - loss: 0.0455 - accuracy: 0.9854 - val_loss: 0.0519 - val_accuracy: 0.9848\n",
      "Epoch 3/20\n",
      "48000/48000 - 9s - loss: 0.0301 - accuracy: 0.9905 - val_loss: 0.0395 - val_accuracy: 0.9887\n",
      "Epoch 4/20\n",
      "48000/48000 - 9s - loss: 0.0217 - accuracy: 0.9931 - val_loss: 0.0407 - val_accuracy: 0.9891\n",
      "Epoch 5/20\n",
      "48000/48000 - 9s - loss: 0.0174 - accuracy: 0.9940 - val_loss: 0.0463 - val_accuracy: 0.9876\n",
      "Epoch 6/20\n",
      "48000/48000 - 9s - loss: 0.0125 - accuracy: 0.9963 - val_loss: 0.0419 - val_accuracy: 0.9900\n",
      "Epoch 7/20\n",
      "48000/48000 - 9s - loss: 0.0116 - accuracy: 0.9964 - val_loss: 0.0503 - val_accuracy: 0.9882\n",
      "Epoch 8/20\n",
      "48000/48000 - 9s - loss: 0.0102 - accuracy: 0.9966 - val_loss: 0.0506 - val_accuracy: 0.9878\n",
      "Epoch 9/20\n",
      "48000/48000 - 9s - loss: 0.0085 - accuracy: 0.9975 - val_loss: 0.0565 - val_accuracy: 0.9885\n",
      "Epoch 10/20\n",
      "48000/48000 - 9s - loss: 0.0091 - accuracy: 0.9970 - val_loss: 0.0554 - val_accuracy: 0.9880\n",
      "Epoch 11/20\n",
      "48000/48000 - 9s - loss: 0.0069 - accuracy: 0.9978 - val_loss: 0.0732 - val_accuracy: 0.9882\n",
      "Epoch 12/20\n",
      "48000/48000 - 9s - loss: 0.0054 - accuracy: 0.9985 - val_loss: 0.0718 - val_accuracy: 0.9885\n",
      "Epoch 13/20\n",
      "48000/48000 - 9s - loss: 0.0066 - accuracy: 0.9979 - val_loss: 0.0600 - val_accuracy: 0.9891\n",
      "Epoch 14/20\n",
      "48000/48000 - 9s - loss: 0.0059 - accuracy: 0.9983 - val_loss: 0.0747 - val_accuracy: 0.9877\n",
      "Epoch 15/20\n",
      "48000/48000 - 9s - loss: 0.0057 - accuracy: 0.9982 - val_loss: 0.0642 - val_accuracy: 0.9913\n",
      "Epoch 16/20\n",
      "48000/48000 - 9s - loss: 0.0058 - accuracy: 0.9984 - val_loss: 0.0909 - val_accuracy: 0.9861\n",
      "Epoch 17/20\n",
      "48000/48000 - 9s - loss: 0.0050 - accuracy: 0.9985 - val_loss: 0.0760 - val_accuracy: 0.9898\n",
      "Epoch 18/20\n",
      "48000/48000 - 9s - loss: 0.0054 - accuracy: 0.9985 - val_loss: 0.0780 - val_accuracy: 0.9893\n",
      "Epoch 19/20\n",
      "48000/48000 - 9s - loss: 0.0060 - accuracy: 0.9985 - val_loss: 0.0924 - val_accuracy: 0.9887\n",
      "Epoch 20/20\n",
      "48000/48000 - 9s - loss: 0.0040 - accuracy: 0.9989 - val_loss: 0.1386 - val_accuracy: 0.9849\n"
     ]
    }
   ],
   "source": [
    "history = model.fit(train_x, train_y, batch_size=9, epochs=20,\\\n",
    "                    verbose=2, validation_data=(validation_x, validation_y))"
   ]
  },
  {
   "cell_type": "code",
   "execution_count": 6,
   "id": "afd3fd9e",
   "metadata": {},
   "outputs": [
    {
     "name": "stdout",
     "output_type": "stream",
     "text": [
      "Model: \"sequential\"\n",
      "_________________________________________________________________\n",
      "Layer (type)                 Output Shape              Param #   \n",
      "=================================================================\n",
      "conv2d (Conv2D)              multiple                  240       \n",
      "_________________________________________________________________\n",
      "max_pooling2d (MaxPooling2D) multiple                  0         \n",
      "_________________________________________________________________\n",
      "conv2d_1 (Conv2D)            multiple                  7812      \n",
      "_________________________________________________________________\n",
      "max_pooling2d_1 (MaxPooling2 multiple                  0         \n",
      "_________________________________________________________________\n",
      "flatten (Flatten)            multiple                  0         \n",
      "_________________________________________________________________\n",
      "dense (Dense)                multiple                  115328    \n",
      "_________________________________________________________________\n",
      "dense_1 (Dense)              multiple                  1290      \n",
      "=================================================================\n",
      "Total params: 124,670\n",
      "Trainable params: 124,670\n",
      "Non-trainable params: 0\n",
      "_________________________________________________________________\n"
     ]
    }
   ],
   "source": [
    "model.summary()"
   ]
  },
  {
   "cell_type": "code",
   "execution_count": 7,
   "id": "f752db00",
   "metadata": {},
   "outputs": [
    {
     "name": "stderr",
     "output_type": "stream",
     "text": [
      "C:\\Users\\tlsdu\\anaconda3\\envs\\tfgpu\\lib\\site-packages\\ipykernel_launcher.py:14: UserWarning: Matplotlib is currently using module://matplotlib_inline.backend_inline, which is a non-GUI backend, so cannot show the figure.\n",
      "  \n"
     ]
    },
    {
     "data": {
      "image/png": "[encoded data removed]",
      "text/plain": [
       "<Figure size 640x480 with 2 Axes>"
      ]
     },
     "metadata": {},
     "output_type": "display_data"
    }
   ],
   "source": [
    "fig, axes = plt.subplots(2,1)\n",
    "\n",
    "axes[0].plot(history.history['loss'], label='Train loss')\n",
    "axes[0].plot(history.history['val_loss'], label='Validation loss')\n",
    "axes[0].set_ylabel('Crossentropy')\n",
    "axes[0].legend()\n",
    "\n",
    "axes[1].plot(history.history['accuracy'], label='Train accuracy')\n",
    "axes[1].plot(history.history['val_accuracy'], label='Validation accuracy')\n",
    "axes[1].set_ylabel('Accuarcy')\n",
    "axes[1].legend()\n",
    "axes[1].set_xlabel('Epochs')\n",
    "\n",
    "fig.show()"
   ]
  },
  {
   "cell_type": "code",
   "execution_count": 8,
   "id": "1b50e084",
   "metadata": {},
   "outputs": [
    {
     "name": "stdout",
     "output_type": "stream",
     "text": [
      "10000/10000 - 1s - loss: 0.1260 - accuracy: 0.9855\n",
      "Test loss : 0.1260\t Test accuracy : 98.55%\n"
     ]
    }
   ],
   "source": [
    "result= model.evaluate(test_x, test_y, verbose=2)\n",
    "\n",
    "print('Test loss : {:.4f}\\t Test accuracy : {:.2f}%'.format(result[0], result[1]*100))"
   ]
  },
  {
   "cell_type": "code",
   "execution_count": 14,
   "id": "5e06f141",
   "metadata": {},
   "outputs": [
    {
     "name": "stdout",
     "output_type": "stream",
     "text": [
      "Probabilty is [0. 1. 0. 0. 0. 0. 0. 0. 0. 0.]\n"
     ]
    },
    {
     "data": {
      "image/png": "[encoded data removed]",
      "text/plain": [
       "<Figure size 640x480 with 1 Axes>"
      ]
     },
     "metadata": {},
     "output_type": "display_data"
    }
   ],
   "source": [
    "prediction = model.predict(test_x)\n",
    "plt.imshow(test_x[5], 'gray')\n",
    "print('Probabilty is {}'.format(prediction[5].round()))\n",
    "plt.title('Prediction is {}'.format(np.argmax(prediction[5])))\n",
    "plt.show()"
   ]
  },
  {
   "cell_type": "code",
   "execution_count": 10,
   "id": "380676e4",
   "metadata": {},
   "outputs": [
    {
     "name": "stdout",
     "output_type": "stream",
     "text": [
      "[<tensorflow.python.keras.layers.convolutional.Conv2D object at 0x00000283D5DE5688>, <tensorflow.python.keras.layers.pooling.MaxPooling2D object at 0x00000283CBAAE748>, <tensorflow.python.keras.layers.convolutional.Conv2D object at 0x00000283D5DFEE88>, <tensorflow.python.keras.layers.pooling.MaxPooling2D object at 0x00000283D5E2B8C8>, <tensorflow.python.keras.layers.core.Flatten object at 0x00000283D5E2BC48>, <tensorflow.python.keras.layers.core.Dense object at 0x00000283D5E31A88>, <tensorflow.python.keras.layers.core.Dense object at 0x00000283D5E31AC8>]\n"
     ]
    }
   ],
   "source": [
    "layers=model.layers\n",
    "print(layers)"
   ]
  },
  {
   "cell_type": "code",
   "execution_count": 11,
   "id": "e0cd7c40",
   "metadata": {},
   "outputs": [
    {
     "data": {
      "text/plain": [
       "array([[[[-3.81585896e-01, -4.19184089e-01,  1.61290288e-01,\n",
       "          -1.74290016e-01, -6.36315579e-03, -2.55019903e-01,\n",
       "          -1.64817125e-01,  5.87253794e-02, -3.26994844e-02,\n",
       "           2.39099175e-01,  1.48981109e-01,  3.51596445e-01,\n",
       "          -1.54217869e-01, -4.07892257e-01, -1.48539260e-01,\n",
       "           1.32874578e-01, -3.05666149e-01, -9.57375616e-02,\n",
       "          -1.71660572e-01,  1.92884296e-01, -1.47585109e-01,\n",
       "          -2.43797541e-01, -4.81195241e-01,  4.95534629e-01]],\n",
       "\n",
       "        [[ 4.07585427e-02, -1.48751453e-01,  1.96363151e-01,\n",
       "           7.67473131e-02, -7.60737881e-02, -1.56982735e-01,\n",
       "          -7.74700344e-01, -3.74969721e-01,  1.76799193e-01,\n",
       "          -4.33980972e-02, -1.71788648e-01,  1.11131504e-01,\n",
       "           9.14488956e-02,  3.72170061e-02,  7.83939138e-02,\n",
       "           2.21479580e-01, -8.49527195e-02,  6.40153512e-02,\n",
       "           3.52066010e-01,  2.45625034e-01, -7.46534348e-01,\n",
       "           3.33597101e-02, -2.56349593e-01,  2.92856812e-01]],\n",
       "\n",
       "        [[ 1.05314687e-01,  7.57522434e-02, -9.97237563e-02,\n",
       "           2.24130347e-01, -2.23742366e-01, -7.23624378e-02,\n",
       "          -4.50355947e-01, -5.12672126e-01,  2.81885952e-01,\n",
       "          -3.85133386e-01, -3.03153127e-01, -2.63376813e-03,\n",
       "          -1.19283423e-01,  6.49159309e-03, -1.09346518e-04,\n",
       "           2.00105339e-01,  5.25146797e-02,  4.63370755e-02,\n",
       "          -2.16425285e-01,  4.76076603e-01, -1.47123799e-01,\n",
       "           9.02934596e-02,  2.21539274e-01, -8.88262782e-03]]],\n",
       "\n",
       "\n",
       "       [[[-4.01601255e-01, -4.02201951e-01, -5.55363372e-02,\n",
       "           2.32150674e-01,  9.86702368e-02, -4.52635378e-01,\n",
       "           1.18460983e-01,  4.39153105e-01, -4.75806117e-01,\n",
       "           3.61792147e-01,  2.34388039e-01, -4.77386825e-02,\n",
       "          -2.45269202e-02, -1.48234665e-02,  1.05716035e-01,\n",
       "           3.60752642e-02, -4.72490162e-01, -5.59528396e-02,\n",
       "           2.51682848e-01, -2.89583176e-01, -1.05980667e-03,\n",
       "           8.41106996e-02, -4.02644515e-01,  4.16649170e-02]],\n",
       "\n",
       "        [[ 2.02825725e-01,  2.74280626e-02, -1.78104341e-01,\n",
       "          -1.37995444e-02,  1.09564001e-02,  1.00222334e-01,\n",
       "          -1.08644158e-01,  3.06640834e-01, -5.16476035e-01,\n",
       "          -1.31169185e-01,  4.66662467e-01,  1.27146840e-01,\n",
       "           1.15241697e-02,  8.95614699e-02, -1.52372316e-01,\n",
       "           2.63114721e-01, -1.26109689e-01,  3.16294432e-01,\n",
       "           2.32857421e-01,  8.49004686e-02,  6.32585809e-02,\n",
       "           1.06498964e-01, -3.47914957e-02, -5.74727595e-01]],\n",
       "\n",
       "        [[ 2.14935720e-01,  3.50562960e-01, -4.12946016e-01,\n",
       "          -8.50210898e-03, -4.70375985e-01,  2.52791971e-01,\n",
       "          -8.71065781e-02, -5.70685029e-01,  3.06266010e-01,\n",
       "          -3.33409756e-01, -5.05969021e-03, -1.76243588e-01,\n",
       "           8.43550339e-02,  1.43743381e-02, -1.24518640e-01,\n",
       "          -2.81036744e-04,  7.75219426e-02,  2.68342257e-01,\n",
       "          -4.95972365e-01,  5.95192723e-02,  2.46798750e-02,\n",
       "          -2.64955938e-01,  2.22836047e-01, -3.20414215e-01]]],\n",
       "\n",
       "\n",
       "       [[[-6.02030277e-01, -1.75555825e-01,  9.98811238e-03,\n",
       "           1.30497664e-01,  8.22723284e-02,  3.18518169e-02,\n",
       "           6.63083494e-02,  1.21002421e-01,  5.87673068e-01,\n",
       "           2.04091117e-01, -4.29541498e-01, -4.54249203e-01,\n",
       "          -2.68073566e-02, -1.39394831e-02,  4.21551317e-02,\n",
       "          -4.29157019e-01, -1.80277154e-01, -4.67423201e-01,\n",
       "           1.51315674e-01, -3.85505378e-01,  3.46720219e-01,\n",
       "          -2.08288848e-01, -1.68343692e-03, -3.38535160e-01]],\n",
       "\n",
       "        [[-2.09022120e-01, -5.50359547e-01,  2.84734279e-01,\n",
       "          -3.31309199e-01, -2.21234947e-01,  3.39589894e-01,\n",
       "          -1.79972485e-01,  5.29445350e-01, -7.91786075e-01,\n",
       "          -6.34063482e-01,  3.59435827e-02, -5.20941913e-01,\n",
       "          -2.32264083e-02, -1.75986096e-01, -7.32520372e-02,\n",
       "          -2.94377297e-01, -8.40830743e-01, -3.74666482e-01,\n",
       "          -1.14242770e-01, -4.15293664e-01,  3.11261654e-01,\n",
       "          -3.46449837e-02, -3.15148920e-01, -1.67707518e-01]],\n",
       "\n",
       "        [[ 2.07901955e-01,  5.87291969e-03,  2.71794915e-01,\n",
       "          -3.81991565e-01, -3.99175256e-01, -2.08006576e-02,\n",
       "           2.42494598e-01,  1.96249946e-03, -2.67699271e-01,\n",
       "          -2.16056526e-01,  1.46176636e-01, -5.53460956e-01,\n",
       "          -4.79949862e-02, -3.05511892e-01,  6.41434966e-03,\n",
       "           8.71991292e-02, -2.83743560e-01, -3.49411547e-01,\n",
       "          -2.59513736e-01, -5.57748973e-01,  5.97757138e-02,\n",
       "          -1.98627681e-01,  3.78087105e-04,  1.97672039e-01]]]],\n",
       "      dtype=float32)"
      ]
     },
     "execution_count": 11,
     "metadata": {},
     "output_type": "execute_result"
    }
   ],
   "source": [
    "layers[0].get_weights()[0]"
   ]
  },
  {
   "cell_type": "code",
   "execution_count": 12,
   "id": "1746ea3a",
   "metadata": {},
   "outputs": [
    {
     "name": "stdout",
     "output_type": "stream",
     "text": [
      "======weight & bias======\n",
      "Con2D-1 : (3, 3, 1, 24) (24,)\n",
      "trainable parameters : 240\n",
      "Con2D-2 : (3, 3, 24, 36) (36,)\n",
      "trainable parameters : 7812\n",
      "Dense-1 : (900, 128) (128,)\n",
      "trainable parameters : 115328\n",
      "Dense-2 : (128, 10) (10,)\n",
      "trainable parameters : 1290\n"
     ]
    }
   ],
   "source": [
    "print('======weight & bias======')\n",
    "print('Con2D-1 : {} {}'.format(layers[0].get_weights()[0].shape,\\\n",
    "                               layers[0].get_weights()[1].shape))\n",
    "print('trainable parameters : {}'.format(np.prod(layers[0].get_weights()[0].shape)\\\n",
    "                                         +np.sum(layers[0].get_weights()[1].shape)))\n",
    "print('Con2D-2 : {} {}'.format(layers[2].get_weights()[0].shape,\\\n",
    "                               layers[2].get_weights()[1].shape))\n",
    "print('trainable parameters : {}'.format(np.prod(layers[2].get_weights()[0].shape)\\\n",
    "                                         +np.sum(layers[2].get_weights()[1].shape)))\n",
    "print('Dense-1 : {} {}'.format(layers[5].get_weights()[0].shape,\\\n",
    "                               layers[5].get_weights()[1].shape))\n",
    "print('trainable parameters : {}'.format(np.prod(layers[5].get_weights()[0].shape)\\\n",
    "                                         +np.sum(layers[5].get_weights()[1].shape)))\n",
    "print('Dense-2 : {} {}'.format(layers[6].get_weights()[0].shape,\\\n",
    "                               model.layers[6].get_weights()[1].shape))\n",
    "print('trainable parameters : {}'.format(np.prod(layers[6].get_weights()[0].shape)\\\n",
    "                                         +np.sum(layers[6].get_weights()[1].shape)))"
   ]
  },
  {
   "cell_type": "code",
   "execution_count": 13,
   "id": "58458c3e",
   "metadata": {},
   "outputs": [
    {
     "name": "stdout",
     "output_type": "stream",
     "text": [
      "Conv2D output shape:\t (1, 26, 26, 24)\n",
      "MaxPooling2D output shape:\t (1, 13, 13, 24)\n",
      "Conv2D output shape:\t (1, 11, 11, 36)\n",
      "MaxPooling2D output shape:\t (1, 5, 5, 36)\n",
      "Flatten output shape:\t (1, 900)\n",
      "Dense output shape:\t (1, 128)\n",
      "Dense output shape:\t (1, 10)\n"
     ]
    }
   ],
   "source": [
    "x = tf.random.uniform(shape=(1,28,28,1))\n",
    "for layer in model.layers:\n",
    "    x=layer(x)\n",
    "    print(layer.__class__.__name__, 'output shape:\\t',x.shape)"
   ]
  },
  {
   "cell_type": "code",
   "execution_count": null,
   "id": "f909301c",
   "metadata": {},
   "outputs": [],
   "source": []
  }
 ],
 "metadata": {
  "kernelspec": {
   "display_name": "[2.1]",
   "language": "python",
   "name": "tfgpu2"
  },
  "language_info": {
   "codemirror_mode": {
    "name": "ipython",
    "version": 3
   },
   "file_extension": ".py",
   "mimetype": "text/x-python",
   "name": "python",
   "nbconvert_exporter": "python",
   "pygments_lexer": "ipython3",
   "version": "3.7.16"
  }
 },
 "nbformat": 4,
 "nbformat_minor": 5
}
