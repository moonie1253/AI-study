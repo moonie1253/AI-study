{
 "cells": [
  {
   "cell_type": "code",
   "execution_count": 1,
   "id": "25c57a9b",
   "metadata": {},
   "outputs": [],
   "source": [
    "import numpy as np\n",
    "import matplotlib.pyplot as plt\n",
    "import tensorflow as tf\n",
    "from tensorflow.keras.datasets import mnist\n",
    "from tensorflow.keras.models import Sequential\n",
    "from tensorflow.keras.layers import Flatten, Dense, Conv2D, MaxPooling2D\n",
    "from tensorflow.keras.losses import SparseCategoricalCrossentropy\n",
    "from tensorflow.keras.optimizers import Adam"
   ]
  },
  {
   "cell_type": "code",
   "execution_count": 2,
   "id": "f6cea497",
   "metadata": {},
   "outputs": [],
   "source": [
    "def load_mnist_dataset():  \n",
    "  (train_validation_images, train_validation_labels), (test_images, test_labels) \\\n",
    "    = mnist.load_data()\n",
    "\n",
    "  train_validation_images = train_validation_images.reshape(-1,28,28,1)\n",
    "  test_images = test_images.reshape(-1,28,28,1)\n",
    "  \n",
    "  train_validation_images = train_validation_images / 255.\n",
    "  test_images = test_images / 255.\n",
    "\n",
    "  n_train_validation = train_validation_images.shape[0]\n",
    "  train_ratio = 0.8\n",
    "  n_train = int(n_train_validation * train_ratio)\n",
    "\n",
    "  train_x = train_validation_images[:n_train]\n",
    "  train_y = train_validation_labels[:n_train]\n",
    "  validation_x = train_validation_images[n_train:]\n",
    "  validation_y = train_validation_labels[n_train:]\n",
    "  test_x = test_images\n",
    "  test_y = test_labels\n",
    "  \n",
    "  print('Train set')\n",
    "  print('Image :', train_x.shape)\n",
    "  print('Label :', train_y.shape)\n",
    "  print('Validation set')\n",
    "  print('Image :', validation_x.shape)\n",
    "  print('Label :', validation_y.shape)\n",
    "  print('Train & validation set')\n",
    "  print('Image :', test_x.shape)\n",
    "  print('Label :', test_y.shape)\n",
    "\n",
    "  return train_x, train_y, validation_x, validation_y, test_x, test_y"
   ]
  },
  {
   "cell_type": "code",
   "execution_count": 3,
   "id": "bd22992c",
   "metadata": {},
   "outputs": [
    {
     "name": "stdout",
     "output_type": "stream",
     "text": [
      "Train set\n",
      "Image : (48000, 28, 28, 1)\n",
      "Label : (48000,)\n",
      "Validation set\n",
      "Image : (12000, 28, 28, 1)\n",
      "Label : (12000,)\n",
      "Train & validation set\n",
      "Image : (10000, 28, 28, 1)\n",
      "Label : (10000,)\n"
     ]
    }
   ],
   "source": [
    "train_x, train_y, validation_x, validation_y, test_x, test_y = load_mnist_dataset()"
   ]
  },
  {
   "cell_type": "code",
   "execution_count": 4,
   "id": "4e61ce9d",
   "metadata": {},
   "outputs": [],
   "source": [
    "model = Sequential()\n",
    "model.add(Conv2D(filters=24, kernel_size=(3,3), padding='valid', activation='relu'))\n",
    "model.add(MaxPooling2D(pool_size=(2,2), strides=(2,2)))\n",
    "model.add(Conv2D(filters=36, kernel_size=(3,3), padding='valid', activation='relu'))\n",
    "model.add(MaxPooling2D(pool_size=(2,2), strides=(2,2)))\n",
    "model.add(Flatten())\n",
    "model.add(Dense(128, activation='relu'))\n",
    "model.add(Dense(10, activation='softmax'))\n",
    "\n",
    "model.compile(loss='sparse_categorical_crossentropy', optimizer='Adam', metrics=['accuracy'])"
   ]
  },
  {
   "cell_type": "code",
   "execution_count": 5,
   "id": "0b951409",
   "metadata": {},
   "outputs": [
    {
     "name": "stdout",
     "output_type": "stream",
     "text": [
      "Train on 48000 samples, validate on 12000 samples\n",
      "Epoch 1/10\n",
      "48000/48000 - 11s - loss: 0.1276 - accuracy: 0.9603 - val_loss: 0.0539 - val_accuracy: 0.9837\n",
      "Epoch 2/10\n",
      "48000/48000 - 9s - loss: 0.0493 - accuracy: 0.9846 - val_loss: 0.0541 - val_accuracy: 0.9837\n",
      "Epoch 3/10\n",
      "48000/48000 - 9s - loss: 0.0315 - accuracy: 0.9901 - val_loss: 0.0459 - val_accuracy: 0.9866\n",
      "Epoch 4/10\n",
      "48000/48000 - 9s - loss: 0.0238 - accuracy: 0.9918 - val_loss: 0.0459 - val_accuracy: 0.9885\n",
      "Epoch 5/10\n",
      "48000/48000 - 9s - loss: 0.0177 - accuracy: 0.9942 - val_loss: 0.0402 - val_accuracy: 0.9894\n",
      "Epoch 6/10\n",
      "48000/48000 - 9s - loss: 0.0153 - accuracy: 0.9948 - val_loss: 0.0458 - val_accuracy: 0.9892\n",
      "Epoch 7/10\n",
      "48000/48000 - 9s - loss: 0.0125 - accuracy: 0.9960 - val_loss: 0.0484 - val_accuracy: 0.9899\n",
      "Epoch 8/10\n",
      "48000/48000 - 9s - loss: 0.0102 - accuracy: 0.9965 - val_loss: 0.0572 - val_accuracy: 0.9888\n",
      "Epoch 9/10\n",
      "48000/48000 - 9s - loss: 0.0088 - accuracy: 0.9972 - val_loss: 0.0809 - val_accuracy: 0.9859\n",
      "Epoch 10/10\n",
      "48000/48000 - 9s - loss: 0.0088 - accuracy: 0.9973 - val_loss: 0.0765 - val_accuracy: 0.9866\n"
     ]
    }
   ],
   "source": [
    "history = model.fit(train_x, train_y, batch_size=9, epochs=10,\\\n",
    "                    verbose=2, validation_data=(validation_x, validation_y))"
   ]
  },
  {
   "cell_type": "code",
   "execution_count": 6,
   "id": "17702cdd",
   "metadata": {},
   "outputs": [
    {
     "name": "stdout",
     "output_type": "stream",
     "text": [
      "Model: \"sequential\"\n",
      "_________________________________________________________________\n",
      "Layer (type)                 Output Shape              Param #   \n",
      "=================================================================\n",
      "conv2d (Conv2D)              multiple                  240       \n",
      "_________________________________________________________________\n",
      "max_pooling2d (MaxPooling2D) multiple                  0         \n",
      "_________________________________________________________________\n",
      "conv2d_1 (Conv2D)            multiple                  7812      \n",
      "_________________________________________________________________\n",
      "max_pooling2d_1 (MaxPooling2 multiple                  0         \n",
      "_________________________________________________________________\n",
      "flatten (Flatten)            multiple                  0         \n",
      "_________________________________________________________________\n",
      "dense (Dense)                multiple                  115328    \n",
      "_________________________________________________________________\n",
      "dense_1 (Dense)              multiple                  1290      \n",
      "=================================================================\n",
      "Total params: 124,670\n",
      "Trainable params: 124,670\n",
      "Non-trainable params: 0\n",
      "_________________________________________________________________\n"
     ]
    }
   ],
   "source": [
    "model.summary()"
   ]
  },
  {
   "cell_type": "code",
   "execution_count": 7,
   "id": "9cc66614",
   "metadata": {},
   "outputs": [
    {
     "name": "stderr",
     "output_type": "stream",
     "text": [
      "C:\\Users\\tlsdu\\anaconda3\\envs\\tfgpu\\lib\\site-packages\\ipykernel_launcher.py:14: UserWarning: Matplotlib is currently using module://matplotlib_inline.backend_inline, which is a non-GUI backend, so cannot show the figure.\n",
      "  \n"
     ]
    },
    {
     "data": {
      "image/png": "[encoded data removed]",
      "text/plain": [
       "<Figure size 640x480 with 2 Axes>"
      ]
     },
     "metadata": {},
     "output_type": "display_data"
    }
   ],
   "source": [
    "fig, axes = plt.subplots(2,1)\n",
    "\n",
    "axes[0].plot(history.history['loss'], label='Train loss')\n",
    "axes[0].plot(history.history['val_loss'], label='Validation loss')\n",
    "axes[0].set_ylabel('Crossentropy')\n",
    "axes[0].legend()\n",
    "\n",
    "axes[1].plot(history.history['accuracy'], label='Train accuracy')\n",
    "axes[1].plot(history.history['val_accuracy'], label='Validation accuracy')\n",
    "axes[1].set_ylabel('Accuarcy')\n",
    "axes[1].legend()\n",
    "axes[1].set_xlabel('Epochs')\n",
    "\n",
    "fig.show()"
   ]
  },
  {
   "cell_type": "code",
   "execution_count": 8,
   "id": "6dfb88ec",
   "metadata": {},
   "outputs": [
    {
     "name": "stdout",
     "output_type": "stream",
     "text": [
      "10000/10000 - 1s - loss: 0.0622 - accuracy: 0.9887\n",
      "Test loss : 0.0622\t Test accuracy : 98.87%\n"
     ]
    }
   ],
   "source": [
    "result= model.evaluate(test_x, test_y, verbose=2)\n",
    "\n",
    "print('Test loss : {:.4f}\\t Test accuracy : {:.2f}%'.format(result[0], result[1]*100))"
   ]
  },
  {
   "cell_type": "code",
   "execution_count": 14,
   "id": "cb151532",
   "metadata": {},
   "outputs": [
    {
     "name": "stdout",
     "output_type": "stream",
     "text": [
      "Probabilty is [0. 1. 0. 0. 0. 0. 0. 0. 0. 0.]\n"
     ]
    },
    {
     "data": {
      "image/png": "[encoded data removed]",
      "text/plain": [
       "<Figure size 640x480 with 1 Axes>"
      ]
     },
     "metadata": {},
     "output_type": "display_data"
    }
   ],
   "source": [
    "prediction = model.predict(test_x)\n",
    "plt.imshow(test_x[5], 'gray')\n",
    "print('Probabilty is {}'.format(prediction[5].round()))\n",
    "plt.title('Prediction is {}'.format(np.argmax(prediction[5])))\n",
    "plt.show()"
   ]
  },
  {
   "cell_type": "code",
   "execution_count": 10,
   "id": "08d023ab",
   "metadata": {},
   "outputs": [
    {
     "name": "stdout",
     "output_type": "stream",
     "text": [
      "[<tensorflow.python.keras.layers.convolutional.Conv2D object at 0x0000026437BB4FC8>, <tensorflow.python.keras.layers.pooling.MaxPooling2D object at 0x000002643FBB4D48>, <tensorflow.python.keras.layers.convolutional.Conv2D object at 0x000002643FBD1E88>, <tensorflow.python.keras.layers.pooling.MaxPooling2D object at 0x000002643FBFA8C8>, <tensorflow.python.keras.layers.core.Flatten object at 0x000002643FBFAC48>, <tensorflow.python.keras.layers.core.Dense object at 0x000002643FBFFA88>, <tensorflow.python.keras.layers.core.Dense object at 0x000002643FBFFB08>]\n"
     ]
    }
   ],
   "source": [
    "layers=model.layers\n",
    "print(layers)"
   ]
  },
  {
   "cell_type": "code",
   "execution_count": 11,
   "id": "f644c22e",
   "metadata": {},
   "outputs": [
    {
     "data": {
      "text/plain": [
       "array([[[[-0.07872837, -0.0245933 , -0.28691864,  0.04765219,\n",
       "          -0.01679886,  0.1258864 ,  0.24269848, -0.34356853,\n",
       "          -0.10961913,  0.06402831,  0.04967889,  0.26161945,\n",
       "          -0.0010238 ,  0.2940646 , -0.01329563,  0.12178271,\n",
       "          -0.10307635, -0.07437774,  0.06296423,  0.04919953,\n",
       "          -0.44196275, -0.20277405, -0.5164128 ,  0.0730148 ]],\n",
       "\n",
       "        [[ 0.12978283, -0.4264351 ,  0.16695246, -0.02509441,\n",
       "           0.12016578, -0.21056315,  0.29768336, -0.17219095,\n",
       "          -0.07765643,  0.30190653, -0.50898486,  0.07406391,\n",
       "          -0.01484498,  0.21614918, -0.08644181,  0.08823876,\n",
       "           0.07318288, -0.05072653,  0.13636129,  0.02412087,\n",
       "           0.0276402 ,  0.02822281, -0.5822885 , -0.45617867]],\n",
       "\n",
       "        [[ 0.05119055, -0.34899792,  0.1097377 , -0.34108928,\n",
       "           0.04000641, -0.4611056 ,  0.2486277 ,  0.2616622 ,\n",
       "           0.2439463 ,  0.2541419 , -0.03776965, -0.16340847,\n",
       "          -0.02303845,  0.01297841, -0.37317216, -0.00671734,\n",
       "           0.05416394,  0.19659017, -0.13961841, -0.23398004,\n",
       "          -0.00212968,  0.01857483, -0.4349087 , -0.20710662]]],\n",
       "\n",
       "\n",
       "       [[[-0.06845652,  0.14879481,  0.27135158, -0.6449853 ,\n",
       "          -0.20530239,  0.29567677,  0.23039323, -0.28871554,\n",
       "          -0.3445045 , -0.3281417 , -0.4691584 ,  0.06925436,\n",
       "          -0.08954157,  0.18069029,  0.04774378,  0.06812049,\n",
       "          -0.04370518, -0.08004392, -0.10362045,  0.07873463,\n",
       "           0.17277431,  0.09532053, -0.1551699 , -0.05492175]],\n",
       "\n",
       "        [[ 0.15738845,  0.25285938,  0.29867452, -0.28982654,\n",
       "           0.17049345,  0.2634886 ,  0.10040102,  0.07035893,\n",
       "           0.21640295,  0.16050343,  0.04879097, -0.38385475,\n",
       "           0.19446306, -0.10571236,  0.3033272 ,  0.37693915,\n",
       "           0.14591904,  0.03241072,  0.22120534,  0.09204625,\n",
       "           0.25096473, -0.09622859, -0.01233833, -0.17385653]],\n",
       "\n",
       "        [[-0.4589293 ,  0.03117282, -0.07841308,  0.03634508,\n",
       "           0.00437405, -0.4220581 , -0.06255592,  0.29713503,\n",
       "           0.24435006,  0.00932303,  0.28096142, -0.16713382,\n",
       "          -0.01601175, -0.42898166,  0.33431956,  0.17829996,\n",
       "          -0.13040188,  0.23496795,  0.11839688, -0.17384195,\n",
       "           0.22145118, -0.07979649, -0.13406897,  0.13517877]]],\n",
       "\n",
       "\n",
       "       [[[ 0.2664981 ,  0.03542167,  0.09178291, -0.22264917,\n",
       "          -0.41331083,  0.04244409, -0.16479208, -0.43344197,\n",
       "          -0.34066626, -0.37855354, -0.3813065 ,  0.10678073,\n",
       "           0.12488732, -0.37041122, -0.42358798, -0.47213534,\n",
       "          -0.07460167,  0.20078261, -0.14501515, -0.2229853 ,\n",
       "           0.02348916, -0.21400382,  0.21835855,  0.14057676]],\n",
       "\n",
       "        [[-0.25966027,  0.17610177, -0.14149146,  0.06132285,\n",
       "          -0.07657474,  0.35074845, -0.5751898 , -0.264361  ,\n",
       "          -0.03753038, -0.41049227, -0.08967924,  0.23745927,\n",
       "          -0.03941898, -0.2663709 , -0.3212245 , -0.2763938 ,\n",
       "           0.02378087,  0.15702927,  0.04287419,  0.16087987,\n",
       "          -0.10785075, -0.07052418,  0.2829077 ,  0.33960345]],\n",
       "\n",
       "        [[-0.19974399,  0.00531657, -0.32345355,  0.28697816,\n",
       "          -0.15632969,  0.07434914, -0.44081035,  0.16053824,\n",
       "           0.16349123,  0.01980193,  0.29903942,  0.12310899,\n",
       "          -0.38504028,  0.09409347,  0.0572641 , -0.04415258,\n",
       "           0.04418464,  0.00479877,  0.0815341 , -0.02394491,\n",
       "          -0.36868295, -0.03196234,  0.29321572,  0.2525404 ]]]],\n",
       "      dtype=float32)"
      ]
     },
     "execution_count": 11,
     "metadata": {},
     "output_type": "execute_result"
    }
   ],
   "source": [
    "layers[0].get_weights()[0]"
   ]
  },
  {
   "cell_type": "code",
   "execution_count": 12,
   "id": "cbd314c8",
   "metadata": {},
   "outputs": [
    {
     "name": "stdout",
     "output_type": "stream",
     "text": [
      "======weight & bias======\n",
      "Con2D-1 : (3, 3, 1, 24) (24,)\n",
      "trainable parameters : 240\n",
      "Con2D-2 : (3, 3, 24, 36) (36,)\n",
      "trainable parameters : 7812\n",
      "Dense-1 : (900, 128) (128,)\n",
      "trainable parameters : 115328\n",
      "Dense-2 : (128, 10) (10,)\n",
      "trainable parameters : 1290\n"
     ]
    }
   ],
   "source": [
    "print('======weight & bias======')\n",
    "print('Con2D-1 : {} {}'.format(layers[0].get_weights()[0].shape,\\\n",
    "                               layers[0].get_weights()[1].shape))\n",
    "print('trainable parameters : {}'.format(np.prod(layers[0].get_weights()[0].shape)\\\n",
    "                                         +np.sum(layers[0].get_weights()[1].shape)))\n",
    "print('Con2D-2 : {} {}'.format(layers[2].get_weights()[0].shape,\\\n",
    "                               layers[2].get_weights()[1].shape))\n",
    "print('trainable parameters : {}'.format(np.prod(layers[2].get_weights()[0].shape)\\\n",
    "                                         +np.sum(layers[2].get_weights()[1].shape)))\n",
    "print('Dense-1 : {} {}'.format(layers[5].get_weights()[0].shape,\\\n",
    "                               layers[5].get_weights()[1].shape))\n",
    "print('trainable parameters : {}'.format(np.prod(layers[5].get_weights()[0].shape)\\\n",
    "                                         +np.sum(layers[5].get_weights()[1].shape)))\n",
    "print('Dense-2 : {} {}'.format(layers[6].get_weights()[0].shape,\\\n",
    "                               model.layers[6].get_weights()[1].shape))\n",
    "print('trainable parameters : {}'.format(np.prod(layers[6].get_weights()[0].shape)\\\n",
    "                                         +np.sum(layers[6].get_weights()[1].shape)))"
   ]
  },
  {
   "cell_type": "code",
   "execution_count": 13,
   "id": "2092cb82",
   "metadata": {},
   "outputs": [
    {
     "name": "stdout",
     "output_type": "stream",
     "text": [
      "Conv2D output shape:\t (1, 26, 26, 24)\n",
      "MaxPooling2D output shape:\t (1, 13, 13, 24)\n",
      "Conv2D output shape:\t (1, 11, 11, 36)\n",
      "MaxPooling2D output shape:\t (1, 5, 5, 36)\n",
      "Flatten output shape:\t (1, 900)\n",
      "Dense output shape:\t (1, 128)\n",
      "Dense output shape:\t (1, 10)\n"
     ]
    }
   ],
   "source": [
    "x = tf.random.uniform(shape=(1,28,28,1))\n",
    "for layer in model.layers:\n",
    "    x=layer(x)\n",
    "    print(layer.__class__.__name__, 'output shape:\\t',x.shape)"
   ]
  },
  {
   "cell_type": "code",
   "execution_count": null,
   "id": "f402d5b5",
   "metadata": {},
   "outputs": [],
   "source": []
  }
 ],
 "metadata": {
  "kernelspec": {
   "display_name": "[2.1]",
   "language": "python",
   "name": "tfgpu2"
  },
  "language_info": {
   "codemirror_mode": {
    "name": "ipython",
    "version": 3
   },
   "file_extension": ".py",
   "mimetype": "text/x-python",
   "name": "python",
   "nbconvert_exporter": "python",
   "pygments_lexer": "ipython3",
   "version": "3.7.16"
  }
 },
 "nbformat": 4,
 "nbformat_minor": 5
}
